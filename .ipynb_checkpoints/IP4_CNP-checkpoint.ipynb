{
 "cells": [
  {
   "cell_type": "markdown",
   "metadata": {},
   "source": [
    "# Individual Project 4 \n",
    "**Author:** Christina Porter   \n",
    "**Version:** 1.0  \n",
    "**Semester:** Spring 2021  \n",
    "**Summary:**  In this project, I will be analyzing a combination of three different datasets provided from the public data archive of Louisville, Kentucky. The three datasets I will be using describe crimes recorded by the Louisville Metro Police Department where some type of firearm was confiscated. These datasets consist of:\n",
    "* firearm_data_intersections13to17, which describes incidents at traffic intersections\n",
    "* FirearmAddress, which describes incidents at a residential or commercial address\n",
    "* FirearmsData, which describes all incidents.\n",
    "Each dataset contains different values. My goal is to merge them and do a further analysis on some trends that may be encased within the data.\n",
    "\n",
    "**About:** This project is a sample of a project for Bellarmine University and Microsoft FutureLou. For more information, please visit https://cporter741.wixsite.com/butterflyprojectblog ."
   ]
  },
  {
   "cell_type": "markdown",
   "metadata": {},
   "source": [
    "## Section 1: Imports"
   ]
  },
  {
   "cell_type": "code",
   "execution_count": 1,
   "metadata": {},
   "outputs": [],
   "source": [
    "import pandas as pd\n",
    "import numpy as np\n",
    "import matplotlib.pyplot as plt\n",
    "import matplotlib.image as mpimg\n",
    "import matplotlib.patches as mpatch\n",
    "import matplotlib.cm as cmpl\n",
    "import matplotlib.colors as mpcolors\n",
    "import seaborn as sns\n",
    "import squarify as sq\n",
    "%matplotlib inline"
   ]
  },
  {
   "cell_type": "markdown",
   "metadata": {},
   "source": [
    "## Section 2: Uploading my Data"
   ]
  },
  {
   "cell_type": "code",
   "execution_count": 2,
   "metadata": {},
   "outputs": [],
   "source": [
    "def upload(fileName):\n",
    "    df = pd.read_csv(fileName)\n",
    "    return df"
   ]
  },
  {
   "cell_type": "code",
   "execution_count": 3,
   "metadata": {},
   "outputs": [
    {
     "ename": "FileNotFoundError",
     "evalue": "[Errno 2] No such file or directory: 'fiream_data_intersections13to17.csv'",
     "output_type": "error",
     "traceback": [
      "\u001b[1;31m---------------------------------------------------------------------------\u001b[0m",
      "\u001b[1;31mFileNotFoundError\u001b[0m                         Traceback (most recent call last)",
      "\u001b[1;32m<ipython-input-3-d371b4e7bc59>\u001b[0m in \u001b[0;36m<module>\u001b[1;34m\u001b[0m\n\u001b[1;32m----> 1\u001b[1;33m \u001b[0mfirearm_intersection\u001b[0m \u001b[1;33m=\u001b[0m \u001b[0mupload\u001b[0m\u001b[1;33m(\u001b[0m\u001b[1;34m'fiream_data_intersections13to17.csv'\u001b[0m\u001b[1;33m)\u001b[0m\u001b[1;33m\u001b[0m\u001b[1;33m\u001b[0m\u001b[0m\n\u001b[0m",
      "\u001b[1;32m<ipython-input-2-2b0016506fc2>\u001b[0m in \u001b[0;36mupload\u001b[1;34m(fileName)\u001b[0m\n\u001b[0;32m      1\u001b[0m \u001b[1;32mdef\u001b[0m \u001b[0mupload\u001b[0m\u001b[1;33m(\u001b[0m\u001b[0mfileName\u001b[0m\u001b[1;33m)\u001b[0m\u001b[1;33m:\u001b[0m\u001b[1;33m\u001b[0m\u001b[1;33m\u001b[0m\u001b[0m\n\u001b[1;32m----> 2\u001b[1;33m     \u001b[0mdf\u001b[0m \u001b[1;33m=\u001b[0m \u001b[0mpd\u001b[0m\u001b[1;33m.\u001b[0m\u001b[0mread_csv\u001b[0m\u001b[1;33m(\u001b[0m\u001b[0mfileName\u001b[0m\u001b[1;33m)\u001b[0m\u001b[1;33m\u001b[0m\u001b[1;33m\u001b[0m\u001b[0m\n\u001b[0m\u001b[0;32m      3\u001b[0m     \u001b[1;32mreturn\u001b[0m \u001b[0mdf\u001b[0m\u001b[1;33m\u001b[0m\u001b[1;33m\u001b[0m\u001b[0m\n",
      "\u001b[1;32m~\\Anaconda3\\lib\\site-packages\\pandas\\io\\parsers.py\u001b[0m in \u001b[0;36mread_csv\u001b[1;34m(filepath_or_buffer, sep, delimiter, header, names, index_col, usecols, squeeze, prefix, mangle_dupe_cols, dtype, engine, converters, true_values, false_values, skipinitialspace, skiprows, skipfooter, nrows, na_values, keep_default_na, na_filter, verbose, skip_blank_lines, parse_dates, infer_datetime_format, keep_date_col, date_parser, dayfirst, cache_dates, iterator, chunksize, compression, thousands, decimal, lineterminator, quotechar, quoting, doublequote, escapechar, comment, encoding, dialect, error_bad_lines, warn_bad_lines, delim_whitespace, low_memory, memory_map, float_precision)\u001b[0m\n\u001b[0;32m    684\u001b[0m     )\n\u001b[0;32m    685\u001b[0m \u001b[1;33m\u001b[0m\u001b[0m\n\u001b[1;32m--> 686\u001b[1;33m     \u001b[1;32mreturn\u001b[0m \u001b[0m_read\u001b[0m\u001b[1;33m(\u001b[0m\u001b[0mfilepath_or_buffer\u001b[0m\u001b[1;33m,\u001b[0m \u001b[0mkwds\u001b[0m\u001b[1;33m)\u001b[0m\u001b[1;33m\u001b[0m\u001b[1;33m\u001b[0m\u001b[0m\n\u001b[0m\u001b[0;32m    687\u001b[0m \u001b[1;33m\u001b[0m\u001b[0m\n\u001b[0;32m    688\u001b[0m \u001b[1;33m\u001b[0m\u001b[0m\n",
      "\u001b[1;32m~\\Anaconda3\\lib\\site-packages\\pandas\\io\\parsers.py\u001b[0m in \u001b[0;36m_read\u001b[1;34m(filepath_or_buffer, kwds)\u001b[0m\n\u001b[0;32m    450\u001b[0m \u001b[1;33m\u001b[0m\u001b[0m\n\u001b[0;32m    451\u001b[0m     \u001b[1;31m# Create the parser.\u001b[0m\u001b[1;33m\u001b[0m\u001b[1;33m\u001b[0m\u001b[1;33m\u001b[0m\u001b[0m\n\u001b[1;32m--> 452\u001b[1;33m     \u001b[0mparser\u001b[0m \u001b[1;33m=\u001b[0m \u001b[0mTextFileReader\u001b[0m\u001b[1;33m(\u001b[0m\u001b[0mfp_or_buf\u001b[0m\u001b[1;33m,\u001b[0m \u001b[1;33m**\u001b[0m\u001b[0mkwds\u001b[0m\u001b[1;33m)\u001b[0m\u001b[1;33m\u001b[0m\u001b[1;33m\u001b[0m\u001b[0m\n\u001b[0m\u001b[0;32m    453\u001b[0m \u001b[1;33m\u001b[0m\u001b[0m\n\u001b[0;32m    454\u001b[0m     \u001b[1;32mif\u001b[0m \u001b[0mchunksize\u001b[0m \u001b[1;32mor\u001b[0m \u001b[0miterator\u001b[0m\u001b[1;33m:\u001b[0m\u001b[1;33m\u001b[0m\u001b[1;33m\u001b[0m\u001b[0m\n",
      "\u001b[1;32m~\\Anaconda3\\lib\\site-packages\\pandas\\io\\parsers.py\u001b[0m in \u001b[0;36m__init__\u001b[1;34m(self, f, engine, **kwds)\u001b[0m\n\u001b[0;32m    944\u001b[0m             \u001b[0mself\u001b[0m\u001b[1;33m.\u001b[0m\u001b[0moptions\u001b[0m\u001b[1;33m[\u001b[0m\u001b[1;34m\"has_index_names\"\u001b[0m\u001b[1;33m]\u001b[0m \u001b[1;33m=\u001b[0m \u001b[0mkwds\u001b[0m\u001b[1;33m[\u001b[0m\u001b[1;34m\"has_index_names\"\u001b[0m\u001b[1;33m]\u001b[0m\u001b[1;33m\u001b[0m\u001b[1;33m\u001b[0m\u001b[0m\n\u001b[0;32m    945\u001b[0m \u001b[1;33m\u001b[0m\u001b[0m\n\u001b[1;32m--> 946\u001b[1;33m         \u001b[0mself\u001b[0m\u001b[1;33m.\u001b[0m\u001b[0m_make_engine\u001b[0m\u001b[1;33m(\u001b[0m\u001b[0mself\u001b[0m\u001b[1;33m.\u001b[0m\u001b[0mengine\u001b[0m\u001b[1;33m)\u001b[0m\u001b[1;33m\u001b[0m\u001b[1;33m\u001b[0m\u001b[0m\n\u001b[0m\u001b[0;32m    947\u001b[0m \u001b[1;33m\u001b[0m\u001b[0m\n\u001b[0;32m    948\u001b[0m     \u001b[1;32mdef\u001b[0m \u001b[0mclose\u001b[0m\u001b[1;33m(\u001b[0m\u001b[0mself\u001b[0m\u001b[1;33m)\u001b[0m\u001b[1;33m:\u001b[0m\u001b[1;33m\u001b[0m\u001b[1;33m\u001b[0m\u001b[0m\n",
      "\u001b[1;32m~\\Anaconda3\\lib\\site-packages\\pandas\\io\\parsers.py\u001b[0m in \u001b[0;36m_make_engine\u001b[1;34m(self, engine)\u001b[0m\n\u001b[0;32m   1176\u001b[0m     \u001b[1;32mdef\u001b[0m \u001b[0m_make_engine\u001b[0m\u001b[1;33m(\u001b[0m\u001b[0mself\u001b[0m\u001b[1;33m,\u001b[0m \u001b[0mengine\u001b[0m\u001b[1;33m=\u001b[0m\u001b[1;34m\"c\"\u001b[0m\u001b[1;33m)\u001b[0m\u001b[1;33m:\u001b[0m\u001b[1;33m\u001b[0m\u001b[1;33m\u001b[0m\u001b[0m\n\u001b[0;32m   1177\u001b[0m         \u001b[1;32mif\u001b[0m \u001b[0mengine\u001b[0m \u001b[1;33m==\u001b[0m \u001b[1;34m\"c\"\u001b[0m\u001b[1;33m:\u001b[0m\u001b[1;33m\u001b[0m\u001b[1;33m\u001b[0m\u001b[0m\n\u001b[1;32m-> 1178\u001b[1;33m             \u001b[0mself\u001b[0m\u001b[1;33m.\u001b[0m\u001b[0m_engine\u001b[0m \u001b[1;33m=\u001b[0m \u001b[0mCParserWrapper\u001b[0m\u001b[1;33m(\u001b[0m\u001b[0mself\u001b[0m\u001b[1;33m.\u001b[0m\u001b[0mf\u001b[0m\u001b[1;33m,\u001b[0m \u001b[1;33m**\u001b[0m\u001b[0mself\u001b[0m\u001b[1;33m.\u001b[0m\u001b[0moptions\u001b[0m\u001b[1;33m)\u001b[0m\u001b[1;33m\u001b[0m\u001b[1;33m\u001b[0m\u001b[0m\n\u001b[0m\u001b[0;32m   1179\u001b[0m         \u001b[1;32melse\u001b[0m\u001b[1;33m:\u001b[0m\u001b[1;33m\u001b[0m\u001b[1;33m\u001b[0m\u001b[0m\n\u001b[0;32m   1180\u001b[0m             \u001b[1;32mif\u001b[0m \u001b[0mengine\u001b[0m \u001b[1;33m==\u001b[0m \u001b[1;34m\"python\"\u001b[0m\u001b[1;33m:\u001b[0m\u001b[1;33m\u001b[0m\u001b[1;33m\u001b[0m\u001b[0m\n",
      "\u001b[1;32m~\\Anaconda3\\lib\\site-packages\\pandas\\io\\parsers.py\u001b[0m in \u001b[0;36m__init__\u001b[1;34m(self, src, **kwds)\u001b[0m\n\u001b[0;32m   2006\u001b[0m         \u001b[0mkwds\u001b[0m\u001b[1;33m[\u001b[0m\u001b[1;34m\"usecols\"\u001b[0m\u001b[1;33m]\u001b[0m \u001b[1;33m=\u001b[0m \u001b[0mself\u001b[0m\u001b[1;33m.\u001b[0m\u001b[0musecols\u001b[0m\u001b[1;33m\u001b[0m\u001b[1;33m\u001b[0m\u001b[0m\n\u001b[0;32m   2007\u001b[0m \u001b[1;33m\u001b[0m\u001b[0m\n\u001b[1;32m-> 2008\u001b[1;33m         \u001b[0mself\u001b[0m\u001b[1;33m.\u001b[0m\u001b[0m_reader\u001b[0m \u001b[1;33m=\u001b[0m \u001b[0mparsers\u001b[0m\u001b[1;33m.\u001b[0m\u001b[0mTextReader\u001b[0m\u001b[1;33m(\u001b[0m\u001b[0msrc\u001b[0m\u001b[1;33m,\u001b[0m \u001b[1;33m**\u001b[0m\u001b[0mkwds\u001b[0m\u001b[1;33m)\u001b[0m\u001b[1;33m\u001b[0m\u001b[1;33m\u001b[0m\u001b[0m\n\u001b[0m\u001b[0;32m   2009\u001b[0m         \u001b[0mself\u001b[0m\u001b[1;33m.\u001b[0m\u001b[0munnamed_cols\u001b[0m \u001b[1;33m=\u001b[0m \u001b[0mself\u001b[0m\u001b[1;33m.\u001b[0m\u001b[0m_reader\u001b[0m\u001b[1;33m.\u001b[0m\u001b[0munnamed_cols\u001b[0m\u001b[1;33m\u001b[0m\u001b[1;33m\u001b[0m\u001b[0m\n\u001b[0;32m   2010\u001b[0m \u001b[1;33m\u001b[0m\u001b[0m\n",
      "\u001b[1;32mpandas\\_libs\\parsers.pyx\u001b[0m in \u001b[0;36mpandas._libs.parsers.TextReader.__cinit__\u001b[1;34m()\u001b[0m\n",
      "\u001b[1;32mpandas\\_libs\\parsers.pyx\u001b[0m in \u001b[0;36mpandas._libs.parsers.TextReader._setup_parser_source\u001b[1;34m()\u001b[0m\n",
      "\u001b[1;31mFileNotFoundError\u001b[0m: [Errno 2] No such file or directory: 'fiream_data_intersections13to17.csv'"
     ]
    }
   ],
   "source": [
    "firearm_intersection = upload('fiream_data_intersections13to17.csv')"
   ]
  },
  {
   "cell_type": "code",
   "execution_count": null,
   "metadata": {},
   "outputs": [],
   "source": [
    "firearm_address = upload('FirearmAddress.csv')"
   ]
  },
  {
   "cell_type": "code",
   "execution_count": null,
   "metadata": {},
   "outputs": [],
   "source": [
    "firearm_general = upload('FirearmsData.csv')"
   ]
  },
  {
   "cell_type": "code",
   "execution_count": null,
   "metadata": {},
   "outputs": [],
   "source": [
    "jan_firearm_auction = upload('Jan2021FirearmsAuction.csv')"
   ]
  },
  {
   "cell_type": "markdown",
   "metadata": {},
   "source": [
    "## Section 3: Exploring my Data"
   ]
  },
  {
   "cell_type": "markdown",
   "metadata": {},
   "source": [
    "Before I can merge these datasets, I want to make sure the column names and values are the same."
   ]
  },
  {
   "cell_type": "markdown",
   "metadata": {},
   "source": [
    "### 3.1: Intersection Dataset"
   ]
  },
  {
   "cell_type": "code",
   "execution_count": null,
   "metadata": {},
   "outputs": [],
   "source": [
    "firearm_intersection.head()"
   ]
  },
  {
   "cell_type": "code",
   "execution_count": null,
   "metadata": {},
   "outputs": [],
   "source": [
    "firearm_intersection.columns"
   ]
  },
  {
   "cell_type": "code",
   "execution_count": null,
   "metadata": {},
   "outputs": [],
   "source": [
    "firearm_intersection.dtypes"
   ]
  },
  {
   "cell_type": "markdown",
   "metadata": {},
   "source": [
    "### 3.2: Address Dataset"
   ]
  },
  {
   "cell_type": "code",
   "execution_count": null,
   "metadata": {},
   "outputs": [],
   "source": [
    "firearm_address.head()"
   ]
  },
  {
   "cell_type": "code",
   "execution_count": null,
   "metadata": {},
   "outputs": [],
   "source": [
    "firearm_address.columns"
   ]
  },
  {
   "cell_type": "code",
   "execution_count": null,
   "metadata": {},
   "outputs": [],
   "source": [
    "firearm_address.dtypes"
   ]
  },
  {
   "cell_type": "markdown",
   "metadata": {},
   "source": [
    "### 3.3: General Dataset"
   ]
  },
  {
   "cell_type": "code",
   "execution_count": null,
   "metadata": {},
   "outputs": [],
   "source": [
    "firearm_general.head()"
   ]
  },
  {
   "cell_type": "code",
   "execution_count": null,
   "metadata": {},
   "outputs": [],
   "source": [
    "firearm_general.columns"
   ]
  },
  {
   "cell_type": "code",
   "execution_count": null,
   "metadata": {},
   "outputs": [],
   "source": [
    "firearm_general.dtypes"
   ]
  },
  {
   "cell_type": "markdown",
   "metadata": {},
   "source": [
    "## Section 4: Changing the Data Format"
   ]
  },
  {
   "cell_type": "markdown",
   "metadata": {},
   "source": [
    "The column names are the same except for some additions in firearm_general and firearm_intersection, so I just want to make sure that the names look exactly the same before I combine the datasets."
   ]
  },
  {
   "cell_type": "markdown",
   "metadata": {},
   "source": [
    "### 4.1: Changing the upper-case column names to lower-case"
   ]
  },
  {
   "cell_type": "code",
   "execution_count": null,
   "metadata": {},
   "outputs": [],
   "source": [
    "firearm_address.columns = ['incident_number',\n",
    "                          'ucr_category',\n",
    "                          'type_of_firearm',\n",
    "                          'firearm_manufacturer',\n",
    "                          'firearm_model',\n",
    "                          'firearm_caliber',\n",
    "                          'recovery_date',\n",
    "                          'address_geocode_type',\n",
    "                          'recovery_address',\n",
    "                          'city',\n",
    "                          'state',\n",
    "                          'recovery_zipcode',\n",
    "                          'person_recovered_from_race',\n",
    "                          'person_recovered_from_sex',\n",
    "                          'person_recovered_from_age',\n",
    "                          'address_concat',\n",
    "                          'longitude',\n",
    "                          'latitude',\n",
    "                          'confidence',\n",
    "                          'source']"
   ]
  },
  {
   "cell_type": "code",
   "execution_count": null,
   "metadata": {},
   "outputs": [],
   "source": [
    "firearm_general.columns = ['incident_number',\n",
    "                          'ucr_category',\n",
    "                          'type_of_firearm',\n",
    "                          'firearm_manufacturer',\n",
    "                          'firearm_model',\n",
    "                          'firearm_caliber',\n",
    "                          'recovery_date',\n",
    "                          'recovery_block_address',\n",
    "                          'city',\n",
    "                          'state',\n",
    "                          'recovery_zipcode',\n",
    "                          'person_recovered_from_race',\n",
    "                          'person_recovered_from_sex',\n",
    "                          'person_recovered_from_age',\n",
    "                          'year']"
   ]
  },
  {
   "cell_type": "code",
   "execution_count": null,
   "metadata": {},
   "outputs": [],
   "source": [
    "firearm_address.columns"
   ]
  },
  {
   "cell_type": "code",
   "execution_count": null,
   "metadata": {},
   "outputs": [],
   "source": [
    "firearm_general.columns"
   ]
  },
  {
   "cell_type": "code",
   "execution_count": null,
   "metadata": {},
   "outputs": [],
   "source": [
    "firearm_intersection.columns"
   ]
  },
  {
   "cell_type": "markdown",
   "metadata": {},
   "source": [
    "### 4.2: Dropping Duplicate Rows"
   ]
  },
  {
   "cell_type": "markdown",
   "metadata": {},
   "source": [
    "Now that I have ensured all my columns look the same and contain the same names, I want to drop all of my duplicate rows before I merge them."
   ]
  },
  {
   "cell_type": "code",
   "execution_count": null,
   "metadata": {},
   "outputs": [],
   "source": [
    "firearm_intersection = firearm_intersection.drop_duplicates()"
   ]
  },
  {
   "cell_type": "code",
   "execution_count": null,
   "metadata": {},
   "outputs": [],
   "source": [
    "firearm_address = firearm_address.drop_duplicates()"
   ]
  },
  {
   "cell_type": "code",
   "execution_count": null,
   "metadata": {},
   "outputs": [],
   "source": [
    "firearm_general = firearm_general.drop_duplicates()"
   ]
  },
  {
   "cell_type": "markdown",
   "metadata": {},
   "source": [
    "### 4.3: Changing data values from upper-case to lower-case"
   ]
  },
  {
   "cell_type": "markdown",
   "metadata": {},
   "source": [
    "In the datasets where we had to change the column names from upper case to lower case, the data within is also in lower case. Let's see if we can go ahead and change these data values from objects to strings and from upper case to lower case at the same time. Luckily, the only dataset we should have to do this with is the firearm_general."
   ]
  },
  {
   "cell_type": "code",
   "execution_count": null,
   "metadata": {},
   "outputs": [],
   "source": [
    "firearm_general['ucr_category'] = firearm_general['ucr_category'].str.title()\n",
    "firearm_general['type_of_firearm'] = firearm_general['type_of_firearm'].str.title()\n",
    "firearm_general['firearm_manufacturer'] = firearm_general['firearm_manufacturer'].str.title()\n",
    "firearm_general['firearm_model'] = firearm_general['firearm_model'].str.title()\n",
    "firearm_general['recovery_block_address'] = firearm_general['recovery_block_address'].str.title()\n",
    "firearm_general['city'] = firearm_general['city'].str.title()\n",
    "firearm_general['person_recovered_from_race'] = firearm_general['person_recovered_from_race'].str.title()"
   ]
  },
  {
   "cell_type": "code",
   "execution_count": null,
   "metadata": {},
   "outputs": [],
   "source": [
    "firearm_general"
   ]
  },
  {
   "cell_type": "markdown",
   "metadata": {},
   "source": [
    "### 4.4: Merging Datasets"
   ]
  },
  {
   "cell_type": "markdown",
   "metadata": {},
   "source": [
    "#### 4.4.1: Merging the Intersection and Address sets"
   ]
  },
  {
   "cell_type": "markdown",
   "metadata": {},
   "source": [
    "After several tries, I figured out the merge function doesn't enjoy having to merge with more than one identical column. I'm going to merge the intersection and address datasets first, then tack on the general after. Between the intersection and address datasets, the column I want to merge on is the incident_number, and the additional columns I want to add are the recovery_block_address, x, and y. \n",
    "\n",
    "So, I'm going to make a different dataframe called firearm_to_merge which contains all the columns from firearm_intersection that I want to merge with firearm_address."
   ]
  },
  {
   "cell_type": "code",
   "execution_count": null,
   "metadata": {},
   "outputs": [],
   "source": [
    "firearm_to_merge = firearm_intersection[['incident_number', 'recovery_block_address', 'x', 'y']]"
   ]
  },
  {
   "cell_type": "markdown",
   "metadata": {},
   "source": [
    "The original dataset included 2746 pieces of data (rows) and the one we want to merge has 2213 pieces of data, so we know that there were 533 duplicate rows in our data that were successfully dropped."
   ]
  },
  {
   "cell_type": "code",
   "execution_count": null,
   "metadata": {},
   "outputs": [],
   "source": [
    "firearm_to_merge"
   ]
  },
  {
   "cell_type": "markdown",
   "metadata": {},
   "source": [
    "Now we can merge the data to get half the dataset we want."
   ]
  },
  {
   "cell_type": "markdown",
   "metadata": {},
   "source": [
    "**Actual Merge:**"
   ]
  },
  {
   "cell_type": "code",
   "execution_count": null,
   "metadata": {},
   "outputs": [],
   "source": [
    "firearm_half = pd.merge(firearm_address, firearm_to_merge, how = 'outer', on =[\"incident_number\"])"
   ]
  },
  {
   "cell_type": "code",
   "execution_count": null,
   "metadata": {},
   "outputs": [],
   "source": [
    "firearm_half"
   ]
  },
  {
   "cell_type": "markdown",
   "metadata": {},
   "source": [
    "Since we're merging two dataframes, I just want to double-check that there are no duplicates."
   ]
  },
  {
   "cell_type": "code",
   "execution_count": null,
   "metadata": {},
   "outputs": [],
   "source": [
    "firearm_half = firearm_half.drop_duplicates()"
   ]
  },
  {
   "cell_type": "code",
   "execution_count": null,
   "metadata": {},
   "outputs": [],
   "source": [
    "firearm_half"
   ]
  },
  {
   "cell_type": "markdown",
   "metadata": {},
   "source": [
    "Since we did an outer merge so we didn't lose data, we did have some duplicate values we had to get rid of. Now, we can go ahead and merge the general dataset."
   ]
  },
  {
   "cell_type": "markdown",
   "metadata": {},
   "source": [
    "#### 4.4.2: Adding on the General set"
   ]
  },
  {
   "cell_type": "code",
   "execution_count": null,
   "metadata": {},
   "outputs": [],
   "source": [
    "firearm_data = pd.merge(firearm_general, firearm_half, how='outer', on=['incident_number'])"
   ]
  },
  {
   "cell_type": "code",
   "execution_count": null,
   "metadata": {},
   "outputs": [],
   "source": [
    "firearm_data"
   ]
  },
  {
   "cell_type": "code",
   "execution_count": null,
   "metadata": {},
   "outputs": [],
   "source": [
    "firearm_data = firearm_data.drop_duplicates()"
   ]
  },
  {
   "cell_type": "code",
   "execution_count": null,
   "metadata": {},
   "outputs": [],
   "source": [
    "firearm_data"
   ]
  },
  {
   "cell_type": "markdown",
   "metadata": {},
   "source": [
    "### 4.5: Looking at our newly merged dataset"
   ]
  },
  {
   "cell_type": "markdown",
   "metadata": {},
   "source": [
    "This is our completed dataset. Now, we can go ahead and take a look at our columns."
   ]
  },
  {
   "cell_type": "code",
   "execution_count": null,
   "metadata": {},
   "outputs": [],
   "source": [
    "firearm_data.columns"
   ]
  },
  {
   "cell_type": "code",
   "execution_count": null,
   "metadata": {},
   "outputs": [],
   "source": [
    "firearm_data.dtypes"
   ]
  },
  {
   "cell_type": "markdown",
   "metadata": {},
   "source": [
    "#### 4.5.1: Checking Split Columns for Duplicates"
   ]
  },
  {
   "cell_type": "markdown",
   "metadata": {},
   "source": [
    "We have a TON of repeated columns here. I want to go ahead and make sure that the repeated columns aren't the same before I decide what to do with them."
   ]
  },
  {
   "cell_type": "code",
   "execution_count": null,
   "metadata": {},
   "outputs": [],
   "source": [
    "print(\"ucr_category: \"+ str(firearm_data['ucr_category_x'].equals(firearm_data['ucr_category_y'])))\n",
    "print(\"type_of_firearm: \" + str(firearm_data['type_of_firearm_x'].equals(firearm_data['type_of_firearm_y'])))\n",
    "print(\"firearm_manufacturer: \" + str(firearm_data['firearm_manufacturer_x'].equals(firearm_data['firearm_manufacturer_y'])))\n",
    "print(\"firearm_model: \" + str(firearm_data['firearm_model_x'].equals(firearm_data['firearm_model_y'])))\n",
    "print(\"firearm_caliber: \" + str(firearm_data['firearm_caliber_x'].equals(firearm_data['firearm_caliber_y'])))\n",
    "print(\"recovery_date: \" + str(firearm_data['recovery_date_x'].equals(firearm_data['recovery_date_y'])))\n",
    "print(\"recovery_block_address: \" + str(firearm_data['recovery_block_address_x'].equals(firearm_data['recovery_block_address_y'])))\n",
    "print(\"city: \" + str(firearm_data['city_x'].equals(firearm_data['city_y'])))\n",
    "print(\"state: \" + str(firearm_data['state_x'].equals(firearm_data['state_y'])))\n",
    "print(\"recovery_zipcode: \" + str(firearm_data['recovery_zipcode_x'].equals(firearm_data['recovery_zipcode_y'])))\n",
    "print(\"person_recovered_from_race: \" + str(firearm_data['person_recovered_from_race_x'].equals(firearm_data['person_recovered_from_race_y'])))\n",
    "print(\"person_recovered_from_sex: \" + str(firearm_data['person_recovered_from_sex_x'].equals(firearm_data['person_recovered_from_sex_y'])))\n",
    "print(\"person_recovered_from_age: \" + str(firearm_data['person_recovered_from_age_x'].equals(firearm_data['person_recovered_from_age_y'])))"
   ]
  },
  {
   "cell_type": "markdown",
   "metadata": {},
   "source": [
    "So basically, none of these columns are the same. Can we merge them without overlapping values?"
   ]
  },
  {
   "cell_type": "code",
   "execution_count": null,
   "metadata": {},
   "outputs": [],
   "source": [
    "test_set = firearm_data"
   ]
  },
  {
   "cell_type": "code",
   "execution_count": null,
   "metadata": {},
   "outputs": [],
   "source": [
    "test_set"
   ]
  },
  {
   "cell_type": "code",
   "execution_count": null,
   "metadata": {},
   "outputs": [],
   "source": [
    "test_set['ucr_category'] = test_set.ucr_category_x.combine_first(test_set.ucr_category_y)"
   ]
  },
  {
   "cell_type": "code",
   "execution_count": null,
   "metadata": {},
   "outputs": [],
   "source": [
    "test_set"
   ]
  },
  {
   "cell_type": "code",
   "execution_count": null,
   "metadata": {},
   "outputs": [],
   "source": [
    "test_set_save = pd.DataFrame(test_set[['ucr_category', 'ucr_category_x', 'ucr_category_y']])"
   ]
  },
  {
   "cell_type": "code",
   "execution_count": null,
   "metadata": {},
   "outputs": [],
   "source": [
    "test_set_save"
   ]
  },
  {
   "cell_type": "code",
   "execution_count": null,
   "metadata": {},
   "outputs": [],
   "source": [
    "test_set_save.sample(30)"
   ]
  },
  {
   "cell_type": "markdown",
   "metadata": {},
   "source": [
    "#### 4.5.2: Merging Our Duplicate Columns"
   ]
  },
  {
   "cell_type": "markdown",
   "metadata": {},
   "source": [
    "After taking a random sample of 30 values, it seems our values were merged the way we wanted them to be. I'm going to create a function so we can do this a bit easier for each column."
   ]
  },
  {
   "cell_type": "code",
   "execution_count": null,
   "metadata": {},
   "outputs": [],
   "source": [
    "def merge_column(dataFrame, columnName):\n",
    "    column_x = (columnName + '_x')\n",
    "    column_y = (columnName + '_y')\n",
    "    dataFrame[columnName] = dataFrame[column_x].combine_first(dataFrame[column_y])"
   ]
  },
  {
   "cell_type": "code",
   "execution_count": null,
   "metadata": {},
   "outputs": [],
   "source": [
    "firearm_data.columns"
   ]
  },
  {
   "cell_type": "code",
   "execution_count": null,
   "metadata": {},
   "outputs": [],
   "source": [
    "merge_column(firearm_data, 'ucr_category')\n",
    "merge_column(firearm_data, 'type_of_firearm')\n",
    "merge_column(firearm_data, 'firearm_manufacturer')\n",
    "merge_column(firearm_data, 'firearm_model')\n",
    "merge_column(firearm_data, 'firearm_caliber')\n",
    "merge_column(firearm_data, 'recovery_date')\n",
    "merge_column(firearm_data, 'recovery_block_address')\n",
    "merge_column(firearm_data, 'city')\n",
    "merge_column(firearm_data, 'state')\n",
    "merge_column(firearm_data, 'recovery_zipcode')\n",
    "merge_column(firearm_data, 'person_recovered_from_race')\n",
    "merge_column(firearm_data, 'person_recovered_from_sex')\n",
    "merge_column(firearm_data, 'person_recovered_from_age')"
   ]
  },
  {
   "cell_type": "code",
   "execution_count": null,
   "metadata": {},
   "outputs": [],
   "source": [
    "firearm_data"
   ]
  },
  {
   "cell_type": "markdown",
   "metadata": {},
   "source": [
    "#### 4.5.3: Dropping our extra columns and duplicate rows after our final merge"
   ]
  },
  {
   "cell_type": "code",
   "execution_count": null,
   "metadata": {},
   "outputs": [],
   "source": [
    "firearm_data = firearm_data.loc[:, ~firearm_data.columns.str.endswith('_x')]"
   ]
  },
  {
   "cell_type": "code",
   "execution_count": null,
   "metadata": {},
   "outputs": [],
   "source": [
    "firearm_data = firearm_data.loc[:, ~firearm_data.columns.str.endswith('_y')]"
   ]
  },
  {
   "cell_type": "code",
   "execution_count": null,
   "metadata": {},
   "outputs": [],
   "source": [
    "firearm_data"
   ]
  },
  {
   "cell_type": "code",
   "execution_count": null,
   "metadata": {},
   "outputs": [],
   "source": [
    "firearm_data = firearm_data.drop_duplicates()"
   ]
  },
  {
   "cell_type": "code",
   "execution_count": null,
   "metadata": {},
   "outputs": [],
   "source": [
    "firearm_data"
   ]
  },
  {
   "cell_type": "markdown",
   "metadata": {},
   "source": [
    "#### 4.5.4: Reordering Columns"
   ]
  },
  {
   "cell_type": "code",
   "execution_count": null,
   "metadata": {},
   "outputs": [],
   "source": [
    "firearm_data.columns"
   ]
  },
  {
   "cell_type": "code",
   "execution_count": null,
   "metadata": {},
   "outputs": [],
   "source": [
    "firearm_data = firearm_data[[\"incident_number\", \"year\", \"recovery_date\", \"ucr_category\", \"type_of_firearm\", \"firearm_manufacturer\", \"firearm_model\", \"firearm_caliber\", \"address_concat\", \"address_geocode_type\", \"recovery_block_address\", \"recovery_address\", \"city\", \"state\", \"recovery_zipcode\", \"longitude\", \"latitude\", \"x\", \"y\", \"person_recovered_from_race\", \"person_recovered_from_sex\", \"person_recovered_from_age\", \"confidence\", \"source\"]]"
   ]
  },
  {
   "cell_type": "code",
   "execution_count": null,
   "metadata": {},
   "outputs": [],
   "source": [
    "firearm_data.head()"
   ]
  },
  {
   "cell_type": "code",
   "execution_count": null,
   "metadata": {},
   "outputs": [],
   "source": [
    "firearm_data.describe()"
   ]
  },
  {
   "cell_type": "markdown",
   "metadata": {},
   "source": [
    "#### 4.5.5: Dropping Values we don't need"
   ]
  },
  {
   "cell_type": "code",
   "execution_count": null,
   "metadata": {
    "scrolled": true
   },
   "outputs": [],
   "source": [
    "firearm_data.columns"
   ]
  },
  {
   "cell_type": "code",
   "execution_count": null,
   "metadata": {},
   "outputs": [],
   "source": [
    "firearm_data.drop(firearm_data[['x', 'y', 'source', 'address_concat']], axis = 1, inplace = True)"
   ]
  },
  {
   "cell_type": "code",
   "execution_count": null,
   "metadata": {},
   "outputs": [],
   "source": [
    "firearm_data.columns"
   ]
  },
  {
   "cell_type": "markdown",
   "metadata": {},
   "source": [
    "#### 4.6.6 Changing the Data Types"
   ]
  },
  {
   "cell_type": "code",
   "execution_count": null,
   "metadata": {},
   "outputs": [],
   "source": [
    "firearm_data.dtypes"
   ]
  },
  {
   "cell_type": "code",
   "execution_count": null,
   "metadata": {},
   "outputs": [],
   "source": [
    "firearm_data['recovery_date'] = pd.to_datetime(firearm_data.recovery_date)"
   ]
  },
  {
   "cell_type": "code",
   "execution_count": null,
   "metadata": {
    "scrolled": true
   },
   "outputs": [],
   "source": [
    "firearm_data.dtypes"
   ]
  },
  {
   "cell_type": "markdown",
   "metadata": {},
   "source": [
    "#### 4.6.7 Separating the gun type with the subcategory"
   ]
  },
  {
   "cell_type": "code",
   "execution_count": null,
   "metadata": {
    "scrolled": true
   },
   "outputs": [],
   "source": [
    "firearm_data['type_of_firearm'].unique()"
   ]
  },
  {
   "cell_type": "code",
   "execution_count": null,
   "metadata": {},
   "outputs": [],
   "source": [
    "firearm_data[['firearm_category', 'firearm_subcategory']] = firearm_data.type_of_firearm.str.split(\",\", expand = True)"
   ]
  },
  {
   "cell_type": "code",
   "execution_count": null,
   "metadata": {},
   "outputs": [],
   "source": [
    "firearm_data.sample(5)"
   ]
  },
  {
   "cell_type": "code",
   "execution_count": null,
   "metadata": {},
   "outputs": [],
   "source": [
    "firearm_data.drop(firearm_data[['type_of_firearm']], axis=1, inplace = True)"
   ]
  },
  {
   "cell_type": "code",
   "execution_count": null,
   "metadata": {},
   "outputs": [],
   "source": [
    "firearm_data.columns"
   ]
  },
  {
   "cell_type": "code",
   "execution_count": null,
   "metadata": {},
   "outputs": [],
   "source": [
    "firearm_data = firearm_data[[\"incident_number\", \n",
    "                             \"year\", \n",
    "                             \"recovery_date\", \n",
    "                             \"ucr_category\", \n",
    "                             \"firearm_category\", \n",
    "                             \"firearm_subcategory\", \n",
    "                             \"firearm_manufacturer\", \n",
    "                             \"firearm_model\", \n",
    "                             \"firearm_caliber\", \n",
    "                             \"address_geocode_type\", \n",
    "                             \"recovery_block_address\",\n",
    "                             \"recovery_address\",\n",
    "                             \"city\",\n",
    "                             \"state\",\n",
    "                             \"recovery_zipcode\",\n",
    "                             \"longitude\", \n",
    "                             \"latitude\", \n",
    "                             \"person_recovered_from_race\", \n",
    "                             \"person_recovered_from_sex\", \n",
    "                             \"person_recovered_from_age\", \n",
    "                             \"confidence\"]]"
   ]
  },
  {
   "cell_type": "markdown",
   "metadata": {},
   "source": [
    "#### 4.6.8: Making consistent N/A Values"
   ]
  },
  {
   "cell_type": "code",
   "execution_count": null,
   "metadata": {},
   "outputs": [],
   "source": [
    "firearm_data = firearm_data.replace('Null', np.NaN)\n",
    "firearm_data = firearm_data.replace('NO ADDRESS', np.NaN)\n",
    "firearm_data = firearm_data.replace('', np.NaN)\n",
    "firearm_data = firearm_data.replace(' ', np.NaN)\n",
    "firearm_data = firearm_data.fillna(np.NaN)"
   ]
  },
  {
   "cell_type": "code",
   "execution_count": null,
   "metadata": {},
   "outputs": [],
   "source": [
    "firearm_data"
   ]
  },
  {
   "cell_type": "markdown",
   "metadata": {},
   "source": [
    "#### 4.6.9: Getting rid of white space around values"
   ]
  },
  {
   "cell_type": "code",
   "execution_count": null,
   "metadata": {},
   "outputs": [],
   "source": [
    "firearm_data['firearm_subcategory'].unique()"
   ]
  },
  {
   "cell_type": "code",
   "execution_count": null,
   "metadata": {},
   "outputs": [],
   "source": [
    "firearm_data.columns"
   ]
  },
  {
   "cell_type": "code",
   "execution_count": null,
   "metadata": {},
   "outputs": [],
   "source": [
    "def trim_space(columnName):\n",
    "    firearm_data[columnName] = firearm_data[columnName].str.lstrip()\n",
    "    firearm_data[columnName] = firearm_data[columnName].str.rstrip()"
   ]
  },
  {
   "cell_type": "code",
   "execution_count": null,
   "metadata": {},
   "outputs": [],
   "source": [
    "trim_space('incident_number')\n",
    "trim_space('ucr_category')\n",
    "trim_space('firearm_category')\n",
    "trim_space('firearm_subcategory')\n",
    "trim_space('firearm_manufacturer')\n",
    "trim_space('firearm_model')\n",
    "trim_space('firearm_caliber')\n",
    "trim_space('address_geocode_type')\n",
    "trim_space('recovery_block_address')\n",
    "trim_space('recovery_address')\n",
    "trim_space('city')\n",
    "trim_space('state')\n",
    "trim_space('recovery_zipcode')\n",
    "trim_space('person_recovered_from_race')\n",
    "trim_space('person_recovered_from_sex')"
   ]
  },
  {
   "cell_type": "code",
   "execution_count": null,
   "metadata": {},
   "outputs": [],
   "source": [
    "firearm_data.dtypes"
   ]
  },
  {
   "cell_type": "code",
   "execution_count": null,
   "metadata": {},
   "outputs": [],
   "source": [
    "firearm_data.columns = ['incident_number',\n",
    "                       'year',\n",
    "                       'recovery_date',\n",
    "                       'ucr_category',\n",
    "                       'firearm_category',\n",
    "                       'firearm_subcategory',\n",
    "                       'firearm_manufacturer',\n",
    "                       'firearm_model',\n",
    "                       'firearm_caliber',\n",
    "                       'address_geocode_type',\n",
    "                       'block_address',\n",
    "                       'street_address',\n",
    "                       'city',\n",
    "                       'state',\n",
    "                       'zipcode',\n",
    "                       'longitude',\n",
    "                       'latitude',\n",
    "                       'person_recovered_from_race',\n",
    "                       'person_recovered_from_sex',\n",
    "                       'person_recovered_from_age',\n",
    "                       'confidence']"
   ]
  },
  {
   "cell_type": "code",
   "execution_count": null,
   "metadata": {},
   "outputs": [],
   "source": [
    "firearm_data"
   ]
  },
  {
   "cell_type": "markdown",
   "metadata": {},
   "source": [
    "#### 4.6.10 Cleaning Year Values"
   ]
  },
  {
   "cell_type": "code",
   "execution_count": null,
   "metadata": {},
   "outputs": [],
   "source": [
    "firearm_data['year'] = firearm_data['year'].apply(str)"
   ]
  },
  {
   "cell_type": "code",
   "execution_count": null,
   "metadata": {},
   "outputs": [],
   "source": [
    "firearm_data"
   ]
  },
  {
   "cell_type": "code",
   "execution_count": null,
   "metadata": {},
   "outputs": [],
   "source": [
    "firearm_data[['year', 'nil']] = firearm_data['year'].str.split(\".\", n=1, expand = True)"
   ]
  },
  {
   "cell_type": "code",
   "execution_count": null,
   "metadata": {},
   "outputs": [],
   "source": [
    "firearm_data.drop(firearm_data[['nil']], axis=1, inplace = True)"
   ]
  },
  {
   "cell_type": "code",
   "execution_count": null,
   "metadata": {},
   "outputs": [],
   "source": [
    "firearm_data['year'].unique()"
   ]
  },
  {
   "cell_type": "code",
   "execution_count": null,
   "metadata": {},
   "outputs": [],
   "source": [
    "firearm_data['year'] = firearm_data['year'].replace('nan', np.NaN)\n",
    "firearm_data['year'] = firearm_data['year'].replace('', np.NaN)\n",
    "firearm_data['year'] = firearm_data['year'].replace(' ', np.NaN)\n",
    "firearm_data['year'] = firearm_data['year'].replace('0', np.NaN)"
   ]
  },
  {
   "cell_type": "code",
   "execution_count": null,
   "metadata": {},
   "outputs": [],
   "source": [
    "firearm_data['year'].unique()"
   ]
  },
  {
   "cell_type": "code",
   "execution_count": null,
   "metadata": {},
   "outputs": [],
   "source": [
    "firearm_data"
   ]
  },
  {
   "cell_type": "markdown",
   "metadata": {},
   "source": [
    "#### 4.6.11: Cleaning incident number values"
   ]
  },
  {
   "cell_type": "code",
   "execution_count": null,
   "metadata": {},
   "outputs": [],
   "source": [
    "firearm_data['incident_number'].unique()"
   ]
  },
  {
   "cell_type": "code",
   "execution_count": null,
   "metadata": {},
   "outputs": [],
   "source": [
    "firearm_data['incident_number'] = firearm_data['incident_number'].replace('', np.NaN)\n",
    "firearm_data['incident_number'] = firearm_data['incident_number'].replace(' ', np.NaN)"
   ]
  },
  {
   "cell_type": "code",
   "execution_count": null,
   "metadata": {},
   "outputs": [],
   "source": [
    "firearm_data['incident_number'].unique()"
   ]
  },
  {
   "cell_type": "markdown",
   "metadata": {},
   "source": [
    "#### 4.6.12: Cleaning recovery date values"
   ]
  },
  {
   "cell_type": "code",
   "execution_count": null,
   "metadata": {},
   "outputs": [],
   "source": [
    "firearm_data['recovery_date'].unique()"
   ]
  },
  {
   "cell_type": "code",
   "execution_count": null,
   "metadata": {},
   "outputs": [],
   "source": [
    "firearm_data['recovery_date'] = firearm_data['recovery_date'].replace('', np.NaN)\n",
    "firearm_data['recovery_date'] = firearm_data['recovery_date'].replace(' ', np.NaN)"
   ]
  },
  {
   "cell_type": "code",
   "execution_count": null,
   "metadata": {},
   "outputs": [],
   "source": [
    "firearm_data['recovery_date'].unique()"
   ]
  },
  {
   "cell_type": "markdown",
   "metadata": {},
   "source": [
    "#### 4.6.13: Cleaning UCR Category Values"
   ]
  },
  {
   "cell_type": "code",
   "execution_count": null,
   "metadata": {},
   "outputs": [],
   "source": [
    "firearm_data['ucr_category'].unique()"
   ]
  },
  {
   "cell_type": "code",
   "execution_count": null,
   "metadata": {},
   "outputs": [],
   "source": [
    "firearm_data['ucr_category'] = firearm_data['ucr_category'].replace(' ', '_', regex = True)"
   ]
  },
  {
   "cell_type": "code",
   "execution_count": null,
   "metadata": {},
   "outputs": [],
   "source": [
    "firearm_data['ucr_category'].unique()"
   ]
  },
  {
   "cell_type": "code",
   "execution_count": null,
   "metadata": {},
   "outputs": [],
   "source": [
    "firearm_data['address_geocode_type'].unique()"
   ]
  },
  {
   "cell_type": "markdown",
   "metadata": {},
   "source": [
    "#### 4.6.14 Cleaning Firearm Manufacturer Values"
   ]
  },
  {
   "cell_type": "code",
   "execution_count": null,
   "metadata": {},
   "outputs": [],
   "source": [
    "firearm_data['firearm_manufacturer'].unique()"
   ]
  },
  {
   "cell_type": "code",
   "execution_count": null,
   "metadata": {},
   "outputs": [],
   "source": [
    "firearm_data['firearm_manufacturer'] = firearm_data['firearm_manufacturer'].replace(' ', '_', regex = True)\n",
    "firearm_data['firearm_manufacturer'] = firearm_data['firearm_manufacturer'].replace('', np.NaN)\n",
    "firearm_data['firearm_manufacturer'] = firearm_data['firearm_manufacturer'].replace('Unk', np.NaN)\n",
    "firearm_data['firearm_manufacturer'] = firearm_data['firearm_manufacturer'].replace('Unknown', np.NaN)\n",
    "firearm_data['firearm_manufacturer'] = firearm_data['firearm_manufacturer'].replace(' ', np.NaN)"
   ]
  },
  {
   "cell_type": "code",
   "execution_count": null,
   "metadata": {},
   "outputs": [],
   "source": [
    "firearm_data['firearm_manufacturer'].unique()"
   ]
  },
  {
   "cell_type": "markdown",
   "metadata": {},
   "source": [
    "#### 4.6.15 Cleaning Firearm Model Values"
   ]
  },
  {
   "cell_type": "code",
   "execution_count": null,
   "metadata": {},
   "outputs": [],
   "source": [
    "firearm_data['firearm_model'].unique()"
   ]
  },
  {
   "cell_type": "code",
   "execution_count": null,
   "metadata": {},
   "outputs": [],
   "source": [
    "firearm_data['firearm_model'] = firearm_data['firearm_model'].replace(' ', '_', regex = True)\n",
    "firearm_data['firearm_model'] = firearm_data['firearm_model'].replace('', np.NaN)\n",
    "firearm_data['firearm_model'] = firearm_data['firearm_model'].replace(' ', np.NaN)"
   ]
  },
  {
   "cell_type": "code",
   "execution_count": null,
   "metadata": {},
   "outputs": [],
   "source": [
    "firearm_data['firearm_model'].unique()"
   ]
  },
  {
   "cell_type": "markdown",
   "metadata": {},
   "source": [
    "#### 4.6.16 Cleaning Firearm Subcategory Values"
   ]
  },
  {
   "cell_type": "code",
   "execution_count": null,
   "metadata": {},
   "outputs": [],
   "source": [
    "firearm_data['firearm_subcategory'].unique()"
   ]
  },
  {
   "cell_type": "code",
   "execution_count": null,
   "metadata": {},
   "outputs": [],
   "source": [
    "firearm_data['firearm_subcategory'] = firearm_data['firearm_subcategory'].replace('Semi-automatic', 'Semi-Automatic')\n",
    "firearm_data['firearm_subcategory'] = firearm_data['firearm_subcategory'].replace('Semiautomatic', 'Semi-Automatic')\n",
    "firearm_data['firearm_subcategory'] = firearm_data['firearm_subcategory'].replace('Single-shot', 'Single-Shot')\n",
    "firearm_data['firearm_subcategory'] = firearm_data['firearm_subcategory'].replace(' ', '_', regex = True)"
   ]
  },
  {
   "cell_type": "code",
   "execution_count": null,
   "metadata": {},
   "outputs": [],
   "source": [
    "firearm_data['firearm_subcategory'].unique()"
   ]
  },
  {
   "cell_type": "markdown",
   "metadata": {},
   "source": [
    "#### 4.6.17 Cleaning Firearm Category Values"
   ]
  },
  {
   "cell_type": "code",
   "execution_count": null,
   "metadata": {},
   "outputs": [],
   "source": [
    "firearm_data['firearm_category'].unique()"
   ]
  },
  {
   "cell_type": "code",
   "execution_count": null,
   "metadata": {},
   "outputs": [],
   "source": [
    "firearm_data['firearm_category'] = firearm_data['firearm_category'].replace('Submachine Gun (machine Pistol)', 'Submachine Gun')\n",
    "firearm_data['firearm_category'] = firearm_data['firearm_category'].replace('Submachine Gun (Machine Pistol)', 'Submachine Gun')\n",
    "firearm_data['firearm_category'] = firearm_data['firearm_category'].replace(' ', '_', regex = True)"
   ]
  },
  {
   "cell_type": "code",
   "execution_count": null,
   "metadata": {},
   "outputs": [],
   "source": [
    "firearm_data['firearm_category'].unique()"
   ]
  },
  {
   "cell_type": "markdown",
   "metadata": {},
   "source": [
    "#### 4.6.18 Cleaning Firearm Caliber Values"
   ]
  },
  {
   "cell_type": "code",
   "execution_count": null,
   "metadata": {},
   "outputs": [],
   "source": [
    "firearm_data['firearm_caliber'].unique()"
   ]
  },
  {
   "cell_type": "code",
   "execution_count": null,
   "metadata": {},
   "outputs": [],
   "source": [
    "firearm_data['firearm_caliber'] = firearm_data['firearm_caliber'].replace('', np.NaN)"
   ]
  },
  {
   "cell_type": "code",
   "execution_count": null,
   "metadata": {},
   "outputs": [],
   "source": [
    "firearm_data['firearm_caliber'].unique()"
   ]
  },
  {
   "cell_type": "markdown",
   "metadata": {},
   "source": [
    "#### 4.6.19 Cleaning Street Address Values"
   ]
  },
  {
   "cell_type": "code",
   "execution_count": null,
   "metadata": {},
   "outputs": [],
   "source": [
    "len(list(firearm_data['street_address'].unique()))"
   ]
  },
  {
   "cell_type": "code",
   "execution_count": null,
   "metadata": {},
   "outputs": [],
   "source": [
    "firearm_data['street_address'] = firearm_data['street_address'].replace('', np.NaN)\n",
    "firearm_data['street_address'] = firearm_data['street_address'].replace('Unk', np.NaN)\n",
    "firearm_data['street_address'] = firearm_data['street_address'].replace(' ', '_', regex = True)"
   ]
  },
  {
   "cell_type": "code",
   "execution_count": null,
   "metadata": {},
   "outputs": [],
   "source": [
    "len(list(firearm_data['street_address'].unique()))"
   ]
  },
  {
   "cell_type": "markdown",
   "metadata": {},
   "source": [
    "#### 4.6.20 Cleaning City Values"
   ]
  },
  {
   "cell_type": "code",
   "execution_count": null,
   "metadata": {},
   "outputs": [],
   "source": [
    "firearm_data['city'].unique()"
   ]
  },
  {
   "cell_type": "code",
   "execution_count": null,
   "metadata": {},
   "outputs": [],
   "source": [
    "firearm_data['city'] = firearm_data['city'].replace('', np.NaN)\n",
    "firearm_data['city'] = firearm_data['city'].replace('Unk', np.NaN)\n",
    "firearm_data['city'] = firearm_data['city'].replace(' ', '_', regex = True)\n",
    "firearm_city_unk = firearm_data.query(\"city=='Htck' or city=='Lynd' or city=='Wtwd' or city=='Mede' or city=='Hurs' or city=='Pro' or city=='Mtwn' or city=='Shv' or city=='Rhil' or city=='Stm' or city=='Wb'or city=='Dhil'\")"
   ]
  },
  {
   "cell_type": "code",
   "execution_count": null,
   "metadata": {},
   "outputs": [],
   "source": [
    "firearm_city_unk.head()"
   ]
  },
  {
   "cell_type": "code",
   "execution_count": null,
   "metadata": {},
   "outputs": [],
   "source": [
    "unk_city_index = firearm_data.query(\"city=='Htck' or city=='Lynd' or city=='Wtwd' or city=='Mede' or city=='Hurs' or city=='Pro' or city=='Mtwn' or city=='Shv' or city=='Rhil' or city=='Stm' or city=='Wb'or city=='Dhil'\").index\n",
    "unk_city_index\n",
    "firearm_data.drop(unk_city_index, inplace = True)"
   ]
  },
  {
   "cell_type": "code",
   "execution_count": null,
   "metadata": {},
   "outputs": [],
   "source": [
    "firearm_data['city'].unique()"
   ]
  },
  {
   "cell_type": "markdown",
   "metadata": {},
   "source": [
    "#### 4.6.21: Cleaning State Values"
   ]
  },
  {
   "cell_type": "code",
   "execution_count": null,
   "metadata": {},
   "outputs": [],
   "source": [
    "firearm_data['state'].unique()"
   ]
  },
  {
   "cell_type": "code",
   "execution_count": null,
   "metadata": {},
   "outputs": [],
   "source": [
    "firearm_data['state'] = firearm_data['state'].replace('', np.NaN)"
   ]
  },
  {
   "cell_type": "code",
   "execution_count": null,
   "metadata": {},
   "outputs": [],
   "source": [
    "firearm_data['state'].unique()"
   ]
  },
  {
   "cell_type": "markdown",
   "metadata": {},
   "source": [
    "#### 4.6.22 Cleaning Zipcode Values"
   ]
  },
  {
   "cell_type": "code",
   "execution_count": null,
   "metadata": {},
   "outputs": [],
   "source": [
    "firearm_data['zipcode'].unique()"
   ]
  },
  {
   "cell_type": "code",
   "execution_count": null,
   "metadata": {},
   "outputs": [],
   "source": [
    "firearm_data['zipcode'] = firearm_data['zipcode'].replace('', np.NaN)"
   ]
  },
  {
   "cell_type": "code",
   "execution_count": null,
   "metadata": {},
   "outputs": [],
   "source": [
    "firearm_data['zipcode'].unique()"
   ]
  },
  {
   "cell_type": "markdown",
   "metadata": {},
   "source": [
    "#### 4.6.23: Cleaning Race Values"
   ]
  },
  {
   "cell_type": "code",
   "execution_count": null,
   "metadata": {},
   "outputs": [],
   "source": [
    "firearm_data['person_recovered_from_race'].unique()"
   ]
  },
  {
   "cell_type": "code",
   "execution_count": null,
   "metadata": {},
   "outputs": [],
   "source": [
    "firearm_data['person_recovered_from_race'] = firearm_data['person_recovered_from_race'].replace('Unknown', np.NaN)\n",
    "firearm_data['person_recovered_from_race'] = firearm_data['person_recovered_from_race'].replace('Indian/India/Burmese', 'Indian/Burmese_Indian')\n",
    "firearm_data['person_recovered_from_race'] = firearm_data['person_recovered_from_race'].replace('American Indian', 'Native American')\n",
    "firearm_data['person_recovered_from_race'] = firearm_data['person_recovered_from_race'].replace(' ', '_', regex = True)"
   ]
  },
  {
   "cell_type": "markdown",
   "metadata": {},
   "source": [
    "#### 4.6.24 Cleaning Sex Values"
   ]
  },
  {
   "cell_type": "code",
   "execution_count": null,
   "metadata": {},
   "outputs": [],
   "source": [
    "firearm_data['person_recovered_from_sex'].unique()"
   ]
  },
  {
   "cell_type": "code",
   "execution_count": null,
   "metadata": {},
   "outputs": [],
   "source": [
    "firearm_data['person_recovered_from_sex'] = firearm_data['person_recovered_from_sex'].replace('U', np.NaN)"
   ]
  },
  {
   "cell_type": "code",
   "execution_count": null,
   "metadata": {},
   "outputs": [],
   "source": [
    "firearm_data['person_recovered_from_sex'].unique()"
   ]
  },
  {
   "cell_type": "markdown",
   "metadata": {},
   "source": [
    "#### 4.6.25 Cleaning Age Values"
   ]
  },
  {
   "cell_type": "code",
   "execution_count": null,
   "metadata": {},
   "outputs": [],
   "source": [
    "firearm_data['person_recovered_from_age'].unique()"
   ]
  },
  {
   "cell_type": "code",
   "execution_count": null,
   "metadata": {},
   "outputs": [],
   "source": [
    "firearm_data = firearm_data.drop_duplicates()"
   ]
  },
  {
   "cell_type": "code",
   "execution_count": null,
   "metadata": {},
   "outputs": [],
   "source": [
    "firearm_data"
   ]
  },
  {
   "cell_type": "code",
   "execution_count": null,
   "metadata": {},
   "outputs": [],
   "source": [
    "firearm_data.to_csv('firearm_data_cleaned.csv')"
   ]
  },
  {
   "cell_type": "markdown",
   "metadata": {},
   "source": [
    "### 4.7: Summary of my Data"
   ]
  },
  {
   "cell_type": "code",
   "execution_count": null,
   "metadata": {},
   "outputs": [],
   "source": [
    "firearm_data.dtypes"
   ]
  },
  {
   "cell_type": "code",
   "execution_count": null,
   "metadata": {},
   "outputs": [],
   "source": [
    "summary_stats = pd.DataFrame(firearm_data.describe())\n",
    "summary_stats = summary_stats.T\n",
    "summary_stats.to_csv('summary_stats.csv')\n",
    "summary_stats"
   ]
  },
  {
   "cell_type": "code",
   "execution_count": null,
   "metadata": {
    "scrolled": true
   },
   "outputs": [],
   "source": [
    "firearm_data.isna().count()"
   ]
  },
  {
   "cell_type": "code",
   "execution_count": null,
   "metadata": {},
   "outputs": [],
   "source": [
    "count_data = pd.DataFrame(firearm_data.count())\n",
    "count_data.columns = ['count_of_category']\n",
    "count_data['dtypes'] = firearm_data.dtypes\n",
    "count_data"
   ]
  },
  {
   "cell_type": "code",
   "execution_count": null,
   "metadata": {},
   "outputs": [],
   "source": [
    "total_data = sum(count_data['count_of_category'])\n",
    "print(total_data)"
   ]
  },
  {
   "cell_type": "code",
   "execution_count": null,
   "metadata": {},
   "outputs": [],
   "source": [
    "count_data['percent_null'] = (100-(firearm_data.count()/11195)*100)\n",
    "count_data = count_data.reset_index()\n",
    "count_data.drop(count_data[['count_of_category']], axis = 1, inplace = True)\n",
    "count_data.columns = ['Category', 'Data Type', 'Missing Data %']\n",
    "count_data.to_csv('category_values.csv', index = False)\n",
    "count_data"
   ]
  },
  {
   "cell_type": "code",
   "execution_count": null,
   "metadata": {},
   "outputs": [],
   "source": [
    "columns = list(firearm_data.columns)"
   ]
  },
  {
   "cell_type": "code",
   "execution_count": null,
   "metadata": {},
   "outputs": [],
   "source": [
    "firearm_data.incident_number.unique()"
   ]
  },
  {
   "cell_type": "code",
   "execution_count": null,
   "metadata": {},
   "outputs": [],
   "source": [
    "category_count = firearm_data['incident_number'].count()\n",
    "category_count"
   ]
  },
  {
   "cell_type": "code",
   "execution_count": null,
   "metadata": {},
   "outputs": [],
   "source": [
    "def proportion_data(col_list):\n",
    "    for i in col_list:\n",
    "        if (firearm_data[i].dtype == 'object' or firearm_data[i].dtype == 'datetime64[ns]'):\n",
    "            unique_val = list(firearm_data[\"\"+i+\"\"].unique())\n",
    "            category_count = firearm_data[\"\"+i+\"\"].count()\n",
    "            unique_val_df = pd.DataFrame(unique_val)\n",
    "            val_counts = list()\n",
    "            val_unique = list()\n",
    "            for j in unique_val:\n",
    "                count_unique = sum(firearm_data[\"\"+i+\"\"] == j)\n",
    "                val_counts.append(count_unique)\n",
    "                proportion_unique = (count_unique/category_count) * 100\n",
    "                val_unique.append(proportion_unique)\n",
    "            unique_val_df['sum'] = val_counts\n",
    "            unique_val_df['proportion'] = val_unique\n",
    "            unique_val_df.to_csv('unique_val_df_'+i+'.csv', index = False)\n",
    "    return \"done\""
   ]
  },
  {
   "cell_type": "code",
   "execution_count": null,
   "metadata": {},
   "outputs": [],
   "source": [
    "proportion_data(columns)"
   ]
  },
  {
   "cell_type": "code",
   "execution_count": null,
   "metadata": {},
   "outputs": [],
   "source": [
    "matrix = firearm_data.corr()\n",
    "matrix.to_csv('corr_matrix.csv')"
   ]
  },
  {
   "cell_type": "code",
   "execution_count": null,
   "metadata": {},
   "outputs": [],
   "source": [
    "sns.heatmap(matrix)\n",
    "plt.savefig('correlation_heatmap.png')"
   ]
  },
  {
   "cell_type": "markdown",
   "metadata": {},
   "source": [
    "## Section 5: Exploring the Data"
   ]
  },
  {
   "cell_type": "markdown",
   "metadata": {},
   "source": [
    "### 5.1 Looking at the incident categories"
   ]
  },
  {
   "cell_type": "code",
   "execution_count": null,
   "metadata": {},
   "outputs": [],
   "source": [
    "firearm_data_category = firearm_data[['ucr_category', 'incident_number']]"
   ]
  },
  {
   "cell_type": "code",
   "execution_count": null,
   "metadata": {},
   "outputs": [],
   "source": [
    "firearm_data_category = firearm_data_category.groupby(['ucr_category']).count()\n",
    "firearm_data_category.columns = [\"count_of_incidents\"]\n",
    "firearm_data_category_csv = firearm_data_category\n",
    "firearm_data_category_csv.to_csv('firearm_data_category.csv')"
   ]
  },
  {
   "cell_type": "code",
   "execution_count": null,
   "metadata": {},
   "outputs": [],
   "source": [
    "firearm_data_category"
   ]
  },
  {
   "cell_type": "code",
   "execution_count": null,
   "metadata": {
    "scrolled": true
   },
   "outputs": [],
   "source": [
    "ax1 = firearm_data_category.sort_values(by=['count_of_incidents'], ascending = False).plot(kind='bar', xlabel='', title='Firearm Confiscation Crime Types 2008-2017', figsize = (20,10))\n",
    "for p in ax1.patches:\n",
    "    ax1.annotate(np.round(p.get_height(),decimals=2),\n",
    "                (p.get_x()+p.get_width()/2., p.get_height()), ha='center', va='center', xytext=(0, 10), textcoords='offset points')\n",
    "legend = plt.legend()\n",
    "legend.get_texts()[0].set_text('count_of_incidents')\n",
    "plt.savefig('firearm_recovery_crime_category.png')"
   ]
  },
  {
   "cell_type": "markdown",
   "metadata": {},
   "source": [
    "#### 5.1.1: Incident Categories Log"
   ]
  },
  {
   "cell_type": "code",
   "execution_count": null,
   "metadata": {},
   "outputs": [],
   "source": [
    "firearm_data_category_log = firearm_data_category\n",
    "firearm_data_category_log['log_scale'] = np.log(firearm_data_category_log['count_of_incidents'])"
   ]
  },
  {
   "cell_type": "code",
   "execution_count": null,
   "metadata": {
    "scrolled": true
   },
   "outputs": [],
   "source": [
    "firearm_data_category_log"
   ]
  },
  {
   "cell_type": "code",
   "execution_count": null,
   "metadata": {},
   "outputs": [],
   "source": [
    "null_values_dropped = firearm_data_category_log[firearm_data_category_log['log_scale'] != 0]"
   ]
  },
  {
   "cell_type": "code",
   "execution_count": null,
   "metadata": {
    "scrolled": true
   },
   "outputs": [],
   "source": [
    "null_values_dropped"
   ]
  },
  {
   "cell_type": "code",
   "execution_count": null,
   "metadata": {
    "scrolled": true
   },
   "outputs": [],
   "source": [
    "ax14 = null_values_dropped['log_scale'].sort_values(ascending = False).plot(kind='bar', xlabel='', title='Firearm Confiscation Crime Types 2008-2017', figsize = (20,10))\n",
    "for p in ax14.patches:\n",
    "    ax14.annotate(np.round(p.get_height(),decimals=2),\n",
    "                (p.get_x()+p.get_width()/2., p.get_height()), ha='center', va='center', xytext=(0, 10), textcoords='offset points')\n",
    "legend = plt.legend()\n",
    "legend.get_texts()[0].set_text('count_of_incidents')\n",
    "plt.savefig('firearm_recovery_crime_category.png')"
   ]
  },
  {
   "cell_type": "markdown",
   "metadata": {},
   "source": [
    "### 5.2: Looking at the gun categories"
   ]
  },
  {
   "cell_type": "code",
   "execution_count": null,
   "metadata": {},
   "outputs": [],
   "source": [
    "firearm_data_firearms = firearm_data[['firearm_category', 'firearm_subcategory']]\n",
    "firearm_data_firearms['count_of_subcategory'] = firearm_data_firearms['firearm_subcategory']"
   ]
  },
  {
   "cell_type": "code",
   "execution_count": null,
   "metadata": {},
   "outputs": [],
   "source": [
    "firearm_data_firearms_grouped = firearm_data_firearms.groupby([firearm_data_firearms['firearm_category'], firearm_data_firearms['firearm_subcategory']]).count()"
   ]
  },
  {
   "cell_type": "code",
   "execution_count": null,
   "metadata": {},
   "outputs": [],
   "source": [
    "firearm_data_firearms_grouped"
   ]
  },
  {
   "cell_type": "markdown",
   "metadata": {},
   "source": [
    "#### Log Values"
   ]
  },
  {
   "cell_type": "code",
   "execution_count": null,
   "metadata": {},
   "outputs": [],
   "source": [
    "firearm_data_firearm_grouped_log = firearm_data_firearms_grouped\n",
    "firearm_data_firearm_grouped_log['log_scale'] = np.log(firearm_data_firearm_grouped_log)"
   ]
  },
  {
   "cell_type": "code",
   "execution_count": null,
   "metadata": {},
   "outputs": [],
   "source": [
    "firearm_data_firearm_grouped_log"
   ]
  },
  {
   "cell_type": "code",
   "execution_count": null,
   "metadata": {},
   "outputs": [],
   "source": [
    "data_sorted_guntype = firearm_data_firearms_grouped.sort_values(by=['count_of_subcategory']).head(15)"
   ]
  },
  {
   "cell_type": "code",
   "execution_count": null,
   "metadata": {},
   "outputs": [],
   "source": [
    "data_sorted_guntype"
   ]
  },
  {
   "cell_type": "code",
   "execution_count": null,
   "metadata": {},
   "outputs": [],
   "source": [
    "ax8 = firearm_data_firearms_grouped.unstack().plot(kind='bar', xlabel='', title='Gun Crimes Gun Types 2008-2017', figsize = (25,10))\n",
    "for p in ax8.patches:\n",
    "    ax8.annotate(np.round(p.get_height(),decimals=2),\n",
    "                (p.get_x()+p.get_width()/2., p.get_height()), ha='center', va='center', xytext=(0, 10), textcoords='offset points')\n",
    "plt.savefig('firearm_unstacked.png')"
   ]
  },
  {
   "cell_type": "code",
   "execution_count": null,
   "metadata": {},
   "outputs": [],
   "source": [
    "ax9 = firearm_data_firearms_grouped.unstack().plot(kind='bar', xlabel='', title='Gun Crimes Gun Types 2008-2017', figsize = (20,15), stacked = True)\n",
    "plt.savefig('firearm_stacked.png')"
   ]
  },
  {
   "cell_type": "code",
   "execution_count": null,
   "metadata": {},
   "outputs": [],
   "source": [
    "firearm_data_firearms_subcategory = firearm_data_firearms_grouped.reset_index('firearm_category')"
   ]
  },
  {
   "cell_type": "code",
   "execution_count": null,
   "metadata": {},
   "outputs": [],
   "source": [
    "firearm_data_firearms_subcategory = firearm_data_firearms_subcategory.sort_values(by=['count_of_subcategory'], ascending = False)"
   ]
  },
  {
   "cell_type": "code",
   "execution_count": null,
   "metadata": {
    "scrolled": true
   },
   "outputs": [],
   "source": [
    "firearm_data_firearms_subcategory"
   ]
  },
  {
   "cell_type": "code",
   "execution_count": null,
   "metadata": {},
   "outputs": [],
   "source": [
    "colors = {\"Pistol\" : \"plum\", \"Rifle\" : \"gold\", \"Shotgun\" : \"r\"}"
   ]
  },
  {
   "cell_type": "code",
   "execution_count": null,
   "metadata": {},
   "outputs": [],
   "source": [
    "ax2 = firearm_data_firearms_subcategory['count_of_subcategory'].plot(kind='bar', xlabel='', title='Types of Firearms Confiscated 2008-2017', figsize = (25,10), color = firearm_data_firearms_subcategory['firearm_category'].replace(colors))\n",
    "for p in ax2.patches:\n",
    "    ax2.annotate(np.round(p.get_height(),decimals=2),\n",
    "                (p.get_x()+p.get_width()/2., p.get_height()), ha='center', va='center', xytext=(0, 10), textcoords='offset points')\n",
    "pistol_label = mpatch.Patch(color = 'plum', label = \"Pistol\")\n",
    "rifle_label = mpatch.Patch(color = 'gold', label = \"Rifle\")\n",
    "shotgun_label = mpatch.Patch(color = 'r', label = \"Shotgun\")\n",
    "plt.legend(handles=[pistol_label, rifle_label, shotgun_label], loc = 1)\n",
    "plt.savefig('count_firearm_type.png')"
   ]
  },
  {
   "cell_type": "markdown",
   "metadata": {},
   "source": [
    "#### 5.2.1: Gun Category with Log Values"
   ]
  },
  {
   "cell_type": "code",
   "execution_count": null,
   "metadata": {},
   "outputs": [],
   "source": [
    "firearm_data_firearm_grouped_log = firearm_data_firearms_grouped\n",
    "firearm_data_firearm_grouped_log['log_scale'] = np.log(firearm_data_firearm_grouped_log)"
   ]
  },
  {
   "cell_type": "code",
   "execution_count": null,
   "metadata": {},
   "outputs": [],
   "source": [
    "firearm_data_firearm_grouped_log"
   ]
  },
  {
   "cell_type": "code",
   "execution_count": null,
   "metadata": {},
   "outputs": [],
   "source": [
    "value_firearm_grouped_log = firearm_data_firearm_grouped_log[firearm_data_firearm_grouped_log['log_scale'] != 0]"
   ]
  },
  {
   "cell_type": "code",
   "execution_count": null,
   "metadata": {},
   "outputs": [],
   "source": [
    "ax15 = value_firearm_grouped_log['log_scale'].unstack().plot(kind='bar', xlabel='', title='Gun Crimes Gun Types 2008-2017 (Log)', figsize = (20,10))\n",
    "for p in ax15.patches:\n",
    "    ax15.annotate(np.round(p.get_height(),decimals=2),\n",
    "                (p.get_x()+p.get_width()/2., p.get_height()), ha='center', va='center', xytext=(0, 10), textcoords='offset points')\n",
    "plt.savefig('unstacked_gun_crime_types_log')"
   ]
  },
  {
   "cell_type": "code",
   "execution_count": null,
   "metadata": {},
   "outputs": [],
   "source": [
    "ax16 = value_firearm_grouped_log['log_scale'].unstack().plot(kind='bar', xlabel='', title='Gun Crimes Gun Types 2008-2017 (Log)', figsize = (20,10), stacked = True)\n",
    "plt.savefig('stacked_gun_crime_types_log')"
   ]
  },
  {
   "cell_type": "code",
   "execution_count": null,
   "metadata": {},
   "outputs": [],
   "source": [
    "firearm_data_subcategory_log = firearm_data_firearm_grouped_log.reset_index('firearm_category')"
   ]
  },
  {
   "cell_type": "code",
   "execution_count": null,
   "metadata": {},
   "outputs": [],
   "source": [
    "firearm_data_subcategory_log = firearm_data_subcategory_log.sort_values(by=['count_of_subcategory'], ascending = False)\n",
    "firearm_data_subcategory_log = firearm_data_subcategory_log[firearm_data_subcategory_log['log_scale'] != 0]"
   ]
  },
  {
   "cell_type": "code",
   "execution_count": null,
   "metadata": {},
   "outputs": [],
   "source": [
    "firearm_data_subcategory_log"
   ]
  },
  {
   "cell_type": "code",
   "execution_count": null,
   "metadata": {},
   "outputs": [],
   "source": [
    "ax17 = firearm_data_subcategory_log['log_scale'].plot(kind='bar', xlabel='', title='Types of Firearms Confiscated 2008-2017 (Log)', figsize = (25,10), color = firearm_data_subcategory_log['firearm_category'].replace(colors))\n",
    "for p in ax2.patches:\n",
    "    ax2.annotate(np.round(p.get_height(),decimals=2),\n",
    "                (p.get_x()+p.get_width()/2., p.get_height()), ha='center', va='center', xytext=(0, 10), textcoords='offset points')\n",
    "pistol_label = mpatch.Patch(color = 'plum', label = \"Pistol\")\n",
    "rifle_label = mpatch.Patch(color = 'gold', label = \"Rifle\")\n",
    "shotgun_label = mpatch.Patch(color = 'r', label = \"Shotgun\")\n",
    "plt.legend(handles=[pistol_label, rifle_label, shotgun_label], loc = 1)\n",
    "plt.savefig('count_firearm_type_log.png')"
   ]
  },
  {
   "cell_type": "markdown",
   "metadata": {},
   "source": [
    "### 5.3: Looking at the crimes in each zipcode"
   ]
  },
  {
   "cell_type": "code",
   "execution_count": null,
   "metadata": {},
   "outputs": [],
   "source": [
    "firearm_data_zipcode = firearm_data[['zipcode', 'incident_number']]"
   ]
  },
  {
   "cell_type": "code",
   "execution_count": null,
   "metadata": {},
   "outputs": [],
   "source": [
    "firearm_data_zipcode.columns = ['zipcode', 'count_of_incidents']"
   ]
  },
  {
   "cell_type": "code",
   "execution_count": null,
   "metadata": {},
   "outputs": [],
   "source": [
    "firearm_data_zipcode = firearm_data_zipcode.groupby(['zipcode']).count()"
   ]
  },
  {
   "cell_type": "code",
   "execution_count": null,
   "metadata": {},
   "outputs": [],
   "source": [
    "firearm_data_zipcode"
   ]
  },
  {
   "cell_type": "code",
   "execution_count": null,
   "metadata": {},
   "outputs": [],
   "source": [
    "ax3 = firearm_data_zipcode.sort_values(by=['count_of_incidents'], ascending = False).plot(kind='bar', xlabel='', title='Zipcode Crime Counts 2008-2017', figsize = (20,10), color = 'mediumseagreen')\n",
    "for p in ax3.patches:\n",
    "    ax3.annotate(np.round(p.get_height(),decimals=2),\n",
    "                (p.get_x()+p.get_width()/2., p.get_height()), ha='center', va='center', xytext=(0, 10), textcoords='offset points')\n",
    "legend = plt.legend()\n",
    "legend.get_texts()[0].set_text('count_of_incidents')\n",
    "plt.savefig('firearm_crime_zipcode.png')"
   ]
  },
  {
   "cell_type": "markdown",
   "metadata": {},
   "source": [
    "#### 5.3.1 Crimes in Zipcode with Log Values"
   ]
  },
  {
   "cell_type": "code",
   "execution_count": null,
   "metadata": {},
   "outputs": [],
   "source": [
    "firearm_data_zipcode_log = firearm_data_zipcode\n",
    "firearm_data_zipcode_log['log_values'] = np.log(firearm_data_zipcode['count_of_incidents'])\n",
    "firearm_data_zipcode_log = firearm_data_zipcode_log[firearm_data_zipcode_log['log_values']!= 0]"
   ]
  },
  {
   "cell_type": "code",
   "execution_count": null,
   "metadata": {},
   "outputs": [],
   "source": [
    "ax18 = firearm_data_zipcode_log['log_values'].sort_values(ascending = False).plot(kind='bar', xlabel='', title='Zipcode Crime Counts 2008-2017 (Log)', figsize = (20,10), color = 'mediumseagreen')\n",
    "for p in ax18.patches:\n",
    "    ax18.annotate(np.round(p.get_height(),decimals=2),\n",
    "                (p.get_x()+p.get_width()/2., p.get_height()), ha='center', va='center', xytext=(0, 10), textcoords='offset points')\n",
    "legend = plt.legend()\n",
    "legend.get_texts()[0].set_text('count_of_incidents')\n",
    "plt.savefig('firearm_crime_zipcode_log.png')"
   ]
  },
  {
   "cell_type": "markdown",
   "metadata": {},
   "source": [
    "### 5.4: Counts of Crime per Race"
   ]
  },
  {
   "cell_type": "code",
   "execution_count": null,
   "metadata": {},
   "outputs": [],
   "source": [
    "firearm_data_race = firearm_data[['person_recovered_from_race', 'incident_number']]\n",
    "firearm_data_race.columns = ['person_recovered_from_race', 'number_of_incidents']"
   ]
  },
  {
   "cell_type": "code",
   "execution_count": null,
   "metadata": {},
   "outputs": [],
   "source": [
    "firearm_data_race = firearm_data_race.groupby(['person_recovered_from_race']).count()"
   ]
  },
  {
   "cell_type": "code",
   "execution_count": null,
   "metadata": {},
   "outputs": [],
   "source": [
    "firearm_data_race"
   ]
  },
  {
   "cell_type": "code",
   "execution_count": null,
   "metadata": {},
   "outputs": [],
   "source": [
    "ax4 = firearm_data_race.sort_values(by=['number_of_incidents'], ascending = False).plot(kind='bar', xlabel='', title='Race Crime Counts 2008-2017', figsize = (10,6), color = 'orange')\n",
    "for p in ax4.patches:\n",
    "    ax4.annotate(np.round(p.get_height(),decimals=2),\n",
    "                (p.get_x()+p.get_width()/2., p.get_height()), ha='center', va='center', xytext=(0, 10), textcoords='offset points')\n",
    "legend = plt.legend()\n",
    "legend.get_texts()[0].set_text('count_of_incidents')\n",
    "plt.savefig('firearm_crime_race.png')"
   ]
  },
  {
   "cell_type": "markdown",
   "metadata": {},
   "source": [
    "#### 5.4.1: Crime per Race with Log Values"
   ]
  },
  {
   "cell_type": "code",
   "execution_count": null,
   "metadata": {},
   "outputs": [],
   "source": [
    "firearm_data_race_log = firearm_data_race\n",
    "firearm_data_race_log['log_values'] = np.log(firearm_data_race['number_of_incidents'])\n",
    "firearm_data_race_log = firearm_data_race_log[firearm_data_race_log['log_values']!= 0]"
   ]
  },
  {
   "cell_type": "code",
   "execution_count": null,
   "metadata": {},
   "outputs": [],
   "source": [
    "ax19 = firearm_data_race_log['log_values'].sort_values(ascending = False).plot(kind='bar', xlabel='', title='Race Crime Counts 2008-2017 (Log)', figsize = (10,6), color = 'orange')\n",
    "for p in ax19.patches:\n",
    "    ax19.annotate(np.round(p.get_height(),decimals=2),\n",
    "                (p.get_x()+p.get_width()/2., p.get_height()), ha='center', va='center', xytext=(0, 10), textcoords='offset points')\n",
    "legend = plt.legend()\n",
    "legend.get_texts()[0].set_text('count_of_incidents')\n",
    "plt.savefig('firearm_crime_race_log.png')"
   ]
  },
  {
   "cell_type": "markdown",
   "metadata": {},
   "source": [
    "### 5.5: Counts of Crime per Sex"
   ]
  },
  {
   "cell_type": "code",
   "execution_count": null,
   "metadata": {},
   "outputs": [],
   "source": [
    "firearm_data_sex = firearm_data[['person_recovered_from_sex', 'incident_number']]"
   ]
  },
  {
   "cell_type": "code",
   "execution_count": null,
   "metadata": {},
   "outputs": [],
   "source": [
    "firearm_data_sex = firearm_data_sex.groupby(['person_recovered_from_sex']).count()"
   ]
  },
  {
   "cell_type": "code",
   "execution_count": null,
   "metadata": {},
   "outputs": [],
   "source": [
    "firearm_data_sex"
   ]
  },
  {
   "cell_type": "code",
   "execution_count": null,
   "metadata": {},
   "outputs": [],
   "source": [
    "ax5 = firearm_data_sex.sort_values(by=['incident_number'], ascending = False).plot(kind='bar', xlabel='', title='Sex Crime Counts 2008-2017', figsize = (10,6), color = 'pink')\n",
    "for p in ax5.patches:\n",
    "    ax5.annotate(np.round(p.get_height(),decimals=2),\n",
    "                (p.get_x()+p.get_width()/2., p.get_height()), ha='center', va='center', xytext=(0, 10), textcoords='offset points')\n",
    "legend = plt.legend()\n",
    "legend.get_texts()[0].set_text('count_of_incidents')\n",
    "plt.savefig('firearm_crime_sex.png')"
   ]
  },
  {
   "cell_type": "code",
   "execution_count": null,
   "metadata": {},
   "outputs": [],
   "source": [
    "firearm_data"
   ]
  },
  {
   "cell_type": "markdown",
   "metadata": {},
   "source": [
    "### 5.6: Counts of Crimes per Age"
   ]
  },
  {
   "cell_type": "code",
   "execution_count": null,
   "metadata": {},
   "outputs": [],
   "source": [
    "firearm_data_age = firearm_data[['person_recovered_from_age', 'incident_number']]"
   ]
  },
  {
   "cell_type": "code",
   "execution_count": null,
   "metadata": {},
   "outputs": [],
   "source": [
    "firearm_data_age = firearm_data_age.groupby(['person_recovered_from_age']).count()"
   ]
  },
  {
   "cell_type": "code",
   "execution_count": null,
   "metadata": {},
   "outputs": [],
   "source": [
    "firearm_data_age"
   ]
  },
  {
   "cell_type": "code",
   "execution_count": null,
   "metadata": {},
   "outputs": [],
   "source": [
    "ax6 = firearm_data_age.plot(kind='bar', xlabel='', title='Age Crime Counts 2008-2017', figsize = (20,10), color = 'thistle')\n",
    "for p in ax6.patches:\n",
    "    ax6.annotate(np.round(p.get_height(),decimals=2),\n",
    "                (p.get_x()+p.get_width()/2., p.get_height()), ha='center', va='center', xytext=(0, 10), textcoords='offset points')\n",
    "legend = plt.legend()\n",
    "legend.get_texts()[0].set_text('count_of_incidents')\n",
    "plt.savefig('firearm_crime_age.png')"
   ]
  },
  {
   "cell_type": "code",
   "execution_count": null,
   "metadata": {},
   "outputs": [],
   "source": [
    "sns.displot(firearm_data_age.index, color='thistle', bins=20)"
   ]
  },
  {
   "cell_type": "code",
   "execution_count": null,
   "metadata": {},
   "outputs": [],
   "source": [
    "sns.displot(firearm_data_age.index, color='cadetblue', kde = True, bins = 20)\n",
    "plt.savefig('age_density.png')"
   ]
  },
  {
   "cell_type": "markdown",
   "metadata": {},
   "source": [
    "### 5.7: Grouping Zipcode and Sex"
   ]
  },
  {
   "cell_type": "code",
   "execution_count": null,
   "metadata": {},
   "outputs": [],
   "source": [
    "firearm_data_zip_sex = firearm_data[['zipcode', 'person_recovered_from_sex']]\n",
    "firearm_data_zip_sex['count_of_crimes'] = firearm_data_zip_sex['person_recovered_from_sex']"
   ]
  },
  {
   "cell_type": "code",
   "execution_count": null,
   "metadata": {},
   "outputs": [],
   "source": [
    "firearm_data_zip_sex = firearm_data_zip_sex.groupby([firearm_data_zip_sex['zipcode'], firearm_data_zip_sex['person_recovered_from_sex']]).count()"
   ]
  },
  {
   "cell_type": "code",
   "execution_count": null,
   "metadata": {},
   "outputs": [],
   "source": [
    "firearm_data_zip_sex"
   ]
  },
  {
   "cell_type": "code",
   "execution_count": null,
   "metadata": {},
   "outputs": [],
   "source": [
    "ax7 = firearm_data_zip_sex.unstack().plot(kind='bar', xlabel='', title='Gun Crimes Zipcode/Sex 2008-2017', figsize = (25,10))\n",
    "for p in ax7.patches:\n",
    "    ax7.annotate(np.round(p.get_height(),decimals=2),\n",
    "                (p.get_x()+p.get_width()/2., p.get_height()), ha='center', va='center', xytext=(0, 10), textcoords='offset points')\n",
    "plt.savefig('count_zip_sex_crime.png')"
   ]
  },
  {
   "cell_type": "markdown",
   "metadata": {},
   "source": [
    "#### 5.7.1: Zipcode and Sex with Log Values"
   ]
  },
  {
   "cell_type": "code",
   "execution_count": null,
   "metadata": {},
   "outputs": [],
   "source": [
    "firearm_data_zip_sex_log = firearm_data_zip_sex\n",
    "firearm_data_zip_sex_log['log_values'] = np.log(firearm_data_zip_sex_log['count_of_crimes'])\n",
    "firearm_data_zip_sex_log = firearm_data_zip_sex_log[firearm_data_zip_sex_log['log_values'] != 0]"
   ]
  },
  {
   "cell_type": "code",
   "execution_count": null,
   "metadata": {},
   "outputs": [],
   "source": [
    "ax20 = firearm_data_zip_sex_log['log_values'].unstack().plot(kind='bar', xlabel='', title='Gun Crimes Zipcode/Sex 2008-2017 (Log)', figsize = (25,10))\n",
    "for p in ax20.patches:\n",
    "    ax20.annotate(np.round(p.get_height(),decimals=2),\n",
    "                (p.get_x()+p.get_width()/2., p.get_height()), ha='center', va='center', xytext=(0, 10), textcoords='offset points')\n",
    "plt.savefig('count_zip_sex_crime_log.png')"
   ]
  },
  {
   "cell_type": "markdown",
   "metadata": {},
   "source": [
    "### 5.8: Grouping Zipcode and Race"
   ]
  },
  {
   "cell_type": "code",
   "execution_count": null,
   "metadata": {},
   "outputs": [],
   "source": [
    "firearm_data_zip_race = firearm_data[['zipcode', 'person_recovered_from_race']]\n",
    "firearm_data_zip_race['count_of_crimes'] = firearm_data_zip_race['person_recovered_from_race']"
   ]
  },
  {
   "cell_type": "code",
   "execution_count": null,
   "metadata": {},
   "outputs": [],
   "source": [
    "firearm_data_zip_race = firearm_data_zip_race.groupby([firearm_data_zip_race['zipcode'], firearm_data_zip_race['person_recovered_from_race']]).count()"
   ]
  },
  {
   "cell_type": "code",
   "execution_count": null,
   "metadata": {},
   "outputs": [],
   "source": [
    "firearm_data_zip_race"
   ]
  },
  {
   "cell_type": "code",
   "execution_count": null,
   "metadata": {},
   "outputs": [],
   "source": [
    "ax10 = firearm_data_zip_race.unstack().plot(kind='bar', xlabel='', title='Gun Crimes Zipcode/Race 2008-2017', figsize = (30,50))\n",
    "for p in ax10.patches:\n",
    "    ax10.annotate(np.round(p.get_height(),decimals=2),\n",
    "                (p.get_x()+p.get_width()/2., p.get_height()), ha='center', va='center', xytext=(0, 10), textcoords='offset points')\n",
    "plt.savefig('count_zip_race_crime.png')"
   ]
  },
  {
   "cell_type": "markdown",
   "metadata": {},
   "source": [
    "#### 5.8.1: Zipcode and Race with Log Values"
   ]
  },
  {
   "cell_type": "code",
   "execution_count": null,
   "metadata": {},
   "outputs": [],
   "source": [
    "firearm_data_zip_race_log = firearm_data_zip_race\n",
    "firearm_data_zip_race_log['log_values'] = np.log(firearm_data_zip_race_log['count_of_crimes'])\n",
    "firearm_data_zip_race_log_zero = firearm_data_zip_race_log[firearm_data_zip_race_log['log_values'] != 0]"
   ]
  },
  {
   "cell_type": "code",
   "execution_count": null,
   "metadata": {},
   "outputs": [],
   "source": [
    "firearm_data_zip_race_log_zero.index"
   ]
  },
  {
   "cell_type": "code",
   "execution_count": null,
   "metadata": {},
   "outputs": [],
   "source": [
    "ax21 = firearm_data_zip_race_log['log_values'].unstack().plot(kind='bar', xlabel='', title='Gun Crimes Zipcode/Race 2008-2017 (Log)', figsize = (40,10))\n",
    "for p in ax21.patches:\n",
    "    ax21.annotate(np.round(p.get_height(),decimals=2),\n",
    "                (p.get_x()+p.get_width()/2., p.get_height()), ha='center', va='center', xytext=(0, 10), textcoords='offset points')\n",
    "plt.savefig('count_zip_race_crime_log.png')"
   ]
  },
  {
   "cell_type": "code",
   "execution_count": null,
   "metadata": {},
   "outputs": [],
   "source": [
    "norm = mpcolors.Normalize(vmin=min(firearm_data_zip_race_log_zero.log_values), vmax=max(firearm_data_zip_race_log_zero.log_values))\n",
    "colors = [cmpl.Blues(norm(value)) for value in firearm_data_zip_race_log_zero.log_values]\n",
    "fig = plt.gcf()\n",
    "ax = fig.add_subplot()\n",
    "fig.set_size_inches(20, 15)\n",
    "sq.plot(label = firearm_data_zip_race_log_zero.index, sizes = firearm_data_zip_race_log_zero.log_values, color = colors)\n",
    "plt.savefig('count_zip_race_crime_heatmap.png')"
   ]
  },
  {
   "cell_type": "markdown",
   "metadata": {},
   "source": [
    "### 5.9: Grouping zipcode and year"
   ]
  },
  {
   "cell_type": "code",
   "execution_count": null,
   "metadata": {},
   "outputs": [],
   "source": [
    "firearm_data_zip_year = firearm_data[['zipcode', 'year']]\n",
    "firearm_data_zip_year['count_of_crimes'] = firearm_data_zip_year['year']"
   ]
  },
  {
   "cell_type": "code",
   "execution_count": null,
   "metadata": {},
   "outputs": [],
   "source": [
    "firearm_data_zip_year = firearm_data_zip_year.groupby([firearm_data_zip_year['zipcode'], firearm_data_zip_year['year']]).count()"
   ]
  },
  {
   "cell_type": "code",
   "execution_count": null,
   "metadata": {},
   "outputs": [],
   "source": [
    "firearm_data_zip_year"
   ]
  },
  {
   "cell_type": "code",
   "execution_count": null,
   "metadata": {},
   "outputs": [],
   "source": [
    "firearm_data_zip_year_heat = firearm_data_zip_year.reset_index()"
   ]
  },
  {
   "cell_type": "code",
   "execution_count": null,
   "metadata": {},
   "outputs": [],
   "source": [
    "firearm_data_zip_year_heat"
   ]
  },
  {
   "cell_type": "code",
   "execution_count": null,
   "metadata": {},
   "outputs": [],
   "source": [
    "zip_year_pivot = firearm_data_zip_year_heat.pivot(\"zipcode\", \"year\", \"count_of_crimes\")"
   ]
  },
  {
   "cell_type": "code",
   "execution_count": null,
   "metadata": {},
   "outputs": [],
   "source": [
    "zip_year_pivot = zip_year_pivot.replace(np.NaN, 0)"
   ]
  },
  {
   "cell_type": "code",
   "execution_count": null,
   "metadata": {},
   "outputs": [],
   "source": [
    "zip_year_pivot"
   ]
  },
  {
   "cell_type": "code",
   "execution_count": null,
   "metadata": {},
   "outputs": [],
   "source": [
    "sns.heatmap(zip_year_pivot)\n",
    "plt.savefig('zip_year_pivot.png')"
   ]
  },
  {
   "cell_type": "code",
   "execution_count": null,
   "metadata": {},
   "outputs": [],
   "source": [
    "ax12 = firearm_data_zip_year_heat.boxplot(column=\"count_of_crimes\", by=\"zipcode\", figsize=(40,20), showfliers = False, showmeans = True)\n",
    "plt.savefig('zip_boxplot.png')"
   ]
  },
  {
   "cell_type": "markdown",
   "metadata": {},
   "source": [
    "#### 5.9.1: Zipcode and year with log values"
   ]
  },
  {
   "cell_type": "code",
   "execution_count": null,
   "metadata": {},
   "outputs": [],
   "source": [
    "firearm_data_zip_year_log = firearm_data_zip_year\n",
    "firearm_data_zip_year_log['log_values'] = np.log(firearm_data_zip_year_log['count_of_crimes'])\n",
    "firearm_data_zip_year_log.drop('count_of_crimes', axis = 1, inplace = True)"
   ]
  },
  {
   "cell_type": "code",
   "execution_count": null,
   "metadata": {},
   "outputs": [],
   "source": [
    "firearm_data_zip_year_log_heat = firearm_data_zip_year.reset_index()"
   ]
  },
  {
   "cell_type": "code",
   "execution_count": null,
   "metadata": {},
   "outputs": [],
   "source": [
    "zip_year_log_pivot = firearm_data_zip_year_log_heat.pivot(\"zipcode\", \"year\", \"log_values\")\n",
    "zip_year_log_pivot = zip_year_log_pivot.replace(np.NaN, 0)\n",
    "zip_year_log_pivot"
   ]
  },
  {
   "cell_type": "code",
   "execution_count": null,
   "metadata": {},
   "outputs": [],
   "source": [
    "fig, ax22 = plt.subplots(figsize = (15,10))\n",
    "sns.heatmap(zip_year_log_pivot, ax=ax22)\n",
    "plt.savefig('zip_year_log_pivot.png')"
   ]
  },
  {
   "cell_type": "code",
   "execution_count": null,
   "metadata": {},
   "outputs": [],
   "source": [
    "ax12 = firearm_data_zip_year_log_heat.boxplot(column=\"log_values\", by=\"zipcode\", figsize=(30,15), showfliers = False, showmeans = True)\n",
    "plt.savefig('zip_boxplot_log.png')"
   ]
  },
  {
   "cell_type": "markdown",
   "metadata": {},
   "source": [
    "#### 5.9.2: Viewing Yearly Gun Crime Count Trends for each Zipcode"
   ]
  },
  {
   "cell_type": "code",
   "execution_count": null,
   "metadata": {},
   "outputs": [],
   "source": [
    "zip_year_line = firearm_data_zip_year"
   ]
  },
  {
   "cell_type": "code",
   "execution_count": null,
   "metadata": {},
   "outputs": [],
   "source": [
    "zip_year_line = firearm_data_zip_year.reset_index('year')"
   ]
  },
  {
   "cell_type": "code",
   "execution_count": null,
   "metadata": {},
   "outputs": [],
   "source": [
    "zip_year_line"
   ]
  },
  {
   "cell_type": "code",
   "execution_count": null,
   "metadata": {},
   "outputs": [],
   "source": [
    "zip_year_raw = firearm_data[['zipcode', 'year']]"
   ]
  },
  {
   "cell_type": "code",
   "execution_count": null,
   "metadata": {},
   "outputs": [],
   "source": [
    "def zipcode_indiv_data(zipc):\n",
    "    zip_data = zip_year_raw\n",
    "    search_zipcode = str(zipc)\n",
    "    query = \"zipcode==\"+\"'\"+search_zipcode+\"'\"\n",
    "    df = zip_data.query(query)\n",
    "    df['count_of_crimes'] = df['year']\n",
    "    df.drop(df[['zipcode']], axis=1, inplace= True)\n",
    "    df = df.groupby('year').count()\n",
    "    return df"
   ]
  },
  {
   "cell_type": "code",
   "execution_count": null,
   "metadata": {},
   "outputs": [],
   "source": [
    "def zipcode_indiv_data_plot(zipc):\n",
    "    plot_df = zipcode_indiv_data(zipc)\n",
    "    df_plot_title = \"Count of Gun Crimes for Zipcode \" + str(zipc)\n",
    "    df_plot = plot_df.plot(title = df_plot_title)\n",
    "    plot_name = \"zip_line_year_\"+str(zipc)+\".png\"\n",
    "    plt.savefig(plot_name)\n",
    "    return df_plot"
   ]
  },
  {
   "cell_type": "code",
   "execution_count": null,
   "metadata": {},
   "outputs": [],
   "source": [
    "zip_list = list(firearm_data_zip_year_heat['zipcode'].unique())"
   ]
  },
  {
   "cell_type": "code",
   "execution_count": null,
   "metadata": {},
   "outputs": [],
   "source": [
    "zip_list"
   ]
  },
  {
   "cell_type": "code",
   "execution_count": null,
   "metadata": {},
   "outputs": [],
   "source": [
    "for i in zip_list:\n",
    "    zipcode_indiv_data_plot(i)"
   ]
  },
  {
   "cell_type": "code",
   "execution_count": null,
   "metadata": {},
   "outputs": [],
   "source": [
    "diamond_fig = plt.figure(figsize=(15,30))\n",
    "ax16 = diamond_fig.add_subplot(515)\n",
    "plt.plot(fair_cut.price, color ='red')\n",
    "plt.title('Fair Diamond/Carat vs Price')\n",
    "plt.xlabel('Carat')\n",
    "plt.ylabel('Price')\n",
    "ax1 = diamond_fig.add_subplot(511, sharex=ax5, sharey=ax5)\n",
    "plt.plot(ideal_cut.price, color='green')\n",
    "plt.title('Ideal Diamond/Carat vs Price')\n",
    "plt.xlabel('Carat')\n",
    "plt.ylabel('Price')\n",
    "ax2 = diamond_fig.add_subplot(512, sharex=ax5, sharey=ax5)\n",
    "plt.plot(premium_cut.price, color='yellow')\n",
    "plt.title('Premium Diamond/Carat vs Price')\n",
    "plt.xlabel('Carat')\n",
    "plt.ylabel('Price')\n",
    "ax3 = diamond_fig.add_subplot(513, sharex=ax5, sharey=ax5)\n",
    "plt.plot(vgood_cut.price, color='pink')\n",
    "plt.title('Very Good Diamond/Carat vs Price')\n",
    "plt.xlabel('Carat')\n",
    "plt.ylabel('Price')\n",
    "ax4 = diamond_fig.add_subplot(514, sharex=ax5, sharey=ax5)\n",
    "plt.plot(good_cut.price, color='blue')\n",
    "plt.title('Good Diamond/Carat vs Price')\n",
    "plt.xlabel('Carat')\n",
    "plt.ylabel('Price')"
   ]
  },
  {
   "cell_type": "markdown",
   "metadata": {},
   "source": [
    "### 5.10: Plotting Race and UCR Category"
   ]
  },
  {
   "cell_type": "code",
   "execution_count": null,
   "metadata": {},
   "outputs": [],
   "source": [
    "firearm_data_race_ucr = firearm_data[['person_recovered_from_race', 'ucr_category']]"
   ]
  },
  {
   "cell_type": "code",
   "execution_count": null,
   "metadata": {},
   "outputs": [],
   "source": [
    "firearm_data_race_ucr['count_of_incidents'] = firearm_data_race_ucr['ucr_category']"
   ]
  },
  {
   "cell_type": "code",
   "execution_count": null,
   "metadata": {},
   "outputs": [],
   "source": [
    "firearm_data_race_ucr = firearm_data_race_ucr.groupby(['ucr_category', 'person_recovered_from_race']).count()"
   ]
  },
  {
   "cell_type": "code",
   "execution_count": null,
   "metadata": {},
   "outputs": [],
   "source": [
    "firearm_data_race_ucr"
   ]
  },
  {
   "cell_type": "code",
   "execution_count": null,
   "metadata": {},
   "outputs": [],
   "source": [
    "ax23 = firearm_data_race_ucr.unstack().plot(kind='bar', xlabel='', title='Gun Crimes Race/UCR Category 2008-2017', figsize = (30,20))\n",
    "for p in ax23.patches:\n",
    "    ax23.annotate(np.round(p.get_height(),decimals=2),\n",
    "                (p.get_x()+p.get_width()/2., p.get_height()), ha='center', va='center', xytext=(0, 10), textcoords='offset points')\n",
    "plt.savefig('count_race_ucr_unstacked.png')"
   ]
  },
  {
   "cell_type": "code",
   "execution_count": null,
   "metadata": {
    "scrolled": true
   },
   "outputs": [],
   "source": [
    "ax25 = firearm_data_race_ucr.unstack().plot(kind='bar', xlabel='', title='Gun Crimes Race/UCR Category 2008-2017', figsize = (30,20), stacked = True)\n",
    "plt.savefig('count_race_ucr_stacked.png')"
   ]
  },
  {
   "cell_type": "markdown",
   "metadata": {},
   "source": [
    "#### 5.10.1: Race and UCR Category with Log Values"
   ]
  },
  {
   "cell_type": "code",
   "execution_count": null,
   "metadata": {},
   "outputs": [],
   "source": [
    "firearm_data_race_ucr_log = firearm_data_race_ucr\n",
    "firearm_data_race_ucr_log['log_values'] = np.log(firearm_data_race_ucr['count_of_incidents'])\n",
    "firearm_data_race_ucr_log = firearm_data_race_ucr_log[firearm_data_race_ucr_log['log_values'] != 0]"
   ]
  },
  {
   "cell_type": "code",
   "execution_count": null,
   "metadata": {
    "scrolled": false
   },
   "outputs": [],
   "source": [
    "ax24 = firearm_data_race_ucr_log['log_values'].unstack().plot(kind='bar', xlabel='', title='Gun Crimes Race/UCR Category 2008-2017 (Log)', figsize = (50,20))\n",
    "for p in ax24.patches:\n",
    "    ax24.annotate(np.round(p.get_height(),decimals=2),\n",
    "                (p.get_x()+p.get_width()/2., p.get_height()), ha='center', va='center', xytext=(0, 10), textcoords='offset points')\n",
    "plt.savefig('count_race_ucr_log_unstacked.png')"
   ]
  },
  {
   "cell_type": "code",
   "execution_count": null,
   "metadata": {
    "scrolled": true
   },
   "outputs": [],
   "source": [
    "ax26 = firearm_data_race_ucr_log['log_values'].unstack().plot(kind='bar', xlabel='', title='Gun Crimes Race/UCR Category 2008-2017 (Log)', figsize = (50,20), stacked = True)\n",
    "plt.savefig('count_race_ucr_log_stacked.png')"
   ]
  },
  {
   "cell_type": "markdown",
   "metadata": {},
   "source": [
    "### 5.11 Plotting UCR Category and Year"
   ]
  },
  {
   "cell_type": "code",
   "execution_count": null,
   "metadata": {},
   "outputs": [],
   "source": [
    "firearm_data_year_ucr = firearm_data[['year', 'ucr_category']]"
   ]
  },
  {
   "cell_type": "code",
   "execution_count": null,
   "metadata": {
    "scrolled": true
   },
   "outputs": [],
   "source": [
    "firearm_data_year_ucr['count_of_incidents'] = firearm_data_year_ucr['ucr_category']"
   ]
  },
  {
   "cell_type": "code",
   "execution_count": null,
   "metadata": {},
   "outputs": [],
   "source": [
    "firearm_data_year_ucr = firearm_data_year_ucr.groupby(['ucr_category', 'year']).count()"
   ]
  },
  {
   "cell_type": "code",
   "execution_count": null,
   "metadata": {
    "scrolled": true
   },
   "outputs": [],
   "source": [
    "firearm_data_year_ucr"
   ]
  },
  {
   "cell_type": "code",
   "execution_count": null,
   "metadata": {},
   "outputs": [],
   "source": [
    "ax27 = firearm_data_year_ucr.unstack().plot(kind='bar', xlabel='', title='Gun Crimes Year/UCR Category 2008-2017', figsize = (50,20))\n",
    "for p in ax27.patches:\n",
    "    ax27.annotate(np.round(p.get_height(),decimals=2),\n",
    "                (p.get_x()+p.get_width()/2., p.get_height()), ha='center', va='center', xytext=(0, 10), textcoords='offset points')\n",
    "plt.savefig('count_year_ucr_unstacked.png')"
   ]
  },
  {
   "cell_type": "code",
   "execution_count": null,
   "metadata": {
    "scrolled": true
   },
   "outputs": [],
   "source": [
    "ax28 = firearm_data_year_ucr.unstack().plot(kind='bar', xlabel='', title='Gun Crimes Year/UCR Category 2008-2017', figsize = (30,20), stacked = True)\n",
    "plt.savefig('count_year_ucr_stacked.png')"
   ]
  },
  {
   "cell_type": "markdown",
   "metadata": {},
   "source": [
    "### 5.12: Plotting Year and UCR Category"
   ]
  },
  {
   "cell_type": "code",
   "execution_count": null,
   "metadata": {},
   "outputs": [],
   "source": [
    "firearm_data_ucr_year = firearm_data[['ucr_category', 'year']]"
   ]
  },
  {
   "cell_type": "code",
   "execution_count": null,
   "metadata": {
    "scrolled": true
   },
   "outputs": [],
   "source": [
    "firearm_data_ucr_year['count_of_incidents'] = firearm_data_ucr_year['ucr_category']"
   ]
  },
  {
   "cell_type": "code",
   "execution_count": null,
   "metadata": {},
   "outputs": [],
   "source": [
    "firearm_data_ucr_year = firearm_data_ucr_year.groupby(['year', 'ucr_category']).count()"
   ]
  },
  {
   "cell_type": "code",
   "execution_count": null,
   "metadata": {
    "scrolled": true
   },
   "outputs": [],
   "source": [
    "firearm_data_ucr_year"
   ]
  },
  {
   "cell_type": "code",
   "execution_count": null,
   "metadata": {},
   "outputs": [],
   "source": [
    "ax29 = firearm_data_ucr_year.unstack().plot(kind='bar', xlabel='', title='Gun Crimes UCR Category/Year 2008-2017', figsize = (30,20))\n",
    "for p in ax29.patches:\n",
    "    ax29.annotate(np.round(p.get_height(),decimals=2),\n",
    "                (p.get_x()+p.get_width()/2., p.get_height()), ha='center', va='center', xytext=(0, 10), textcoords='offset points')\n",
    "plt.savefig('count_ucr_year_unstacked.png')"
   ]
  },
  {
   "cell_type": "code",
   "execution_count": null,
   "metadata": {
    "scrolled": true
   },
   "outputs": [],
   "source": [
    "ax28 = firearm_data_ucr_year.unstack().plot(kind='bar', xlabel='', title='Gun Crimes UCR Category/Year 2008-2017', figsize = (30,20), stacked = True)\n",
    "plt.savefig('count_ucr_year_stacked.png')"
   ]
  },
  {
   "cell_type": "markdown",
   "metadata": {},
   "source": [
    "#### 5.11.1 Race and UCR Category Log"
   ]
  },
  {
   "cell_type": "code",
   "execution_count": null,
   "metadata": {},
   "outputs": [],
   "source": [
    "firearm_data_race_ucr_log = firearm_data_race_ucr\n",
    "firearm_data_race_ucr_log['log_values'] = np.log(firearm_data_race_ucr['count_of_incidents'])\n",
    "firearm_data_race_ucr_log = firearm_data_race_ucr_log[firearm_data_race_ucr_log['log_values'] != 0]"
   ]
  },
  {
   "cell_type": "code",
   "execution_count": null,
   "metadata": {
    "scrolled": false
   },
   "outputs": [],
   "source": [
    "ax24 = firearm_data_race_ucr_log['log_values'].unstack().plot(kind='bar', xlabel='', title='Gun Crimes Race/UCR Category 2008-2017 (Log)', figsize = (50,20))\n",
    "for p in ax24.patches:\n",
    "    ax24.annotate(np.round(p.get_height(),decimals=2),\n",
    "                (p.get_x()+p.get_width()/2., p.get_height()), ha='center', va='center', xytext=(0, 10), textcoords='offset points')\n",
    "plt.savefig('count_race_ucr_log_unstacked.png')"
   ]
  },
  {
   "cell_type": "code",
   "execution_count": null,
   "metadata": {
    "scrolled": false
   },
   "outputs": [],
   "source": [
    "ax26 = firearm_data_race_ucr_log['log_values'].unstack().plot(kind='bar', xlabel='', title='Gun Crimes Race/UCR Category 2008-2017 (Log)', figsize = (50,20), stacked = True)\n",
    "plt.savefig('count_race_ucr_log_stacked.png')"
   ]
  },
  {
   "cell_type": "code",
   "execution_count": null,
   "metadata": {},
   "outputs": [],
   "source": []
  }
 ],
 "metadata": {
  "kernelspec": {
   "display_name": "Python 3",
   "language": "python",
   "name": "python3"
  },
  "language_info": {
   "codemirror_mode": {
    "name": "ipython",
    "version": 3
   },
   "file_extension": ".py",
   "mimetype": "text/x-python",
   "name": "python",
   "nbconvert_exporter": "python",
   "pygments_lexer": "ipython3",
   "version": "3.8.5"
  }
 },
 "nbformat": 4,
 "nbformat_minor": 4
}
